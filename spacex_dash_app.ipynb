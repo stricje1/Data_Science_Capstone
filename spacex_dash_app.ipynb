{
    "cells": [
        {
            "cell_type": "markdown",
            "metadata": {
                "collapsed": true
            },
            "source": "# Dashboard Application with Plotly Dash"
        },
        {
            "cell_type": "code",
            "execution_count": null,
            "metadata": {},
            "outputs": [],
            "source": "# Import required libraries\nimport pandas as pd\nimport dash\nimport dash_html_components as html\nimport dash_core_components as dcc\nfrom dash.dependencies import Input, Output\nimport plotly.express as px\n\n# Read the airline data into pandas dataframe\nspacex_df = pd.read_csv(\"spacex_launch_dash.csv\")\nmax_payload = spacex_df['Payload Mass (kg)'].max()\nmin_payload = spacex_df['Payload Mass (kg)'].min()\n\n# Create a dash application\napp = dash.Dash(__name__)\n\n# Create an app layout\napp.layout = html.Div(children=[html.H1('SpaceX Launch Records Dashboard',\n                                        style={'textAlign': 'center', 'color': '#503D36',\n                                               'font-size': 40}),\n                                # TASK 1: Add a dropdown list to enable Launch Site selection\n                                # The default select value is for ALL sites\n                                dcc.Dropdown(id='site-dropdown', options=[\n                                    {'label': 'All Sites', 'value': 'ALL'},\n                                            {'label': 'CCAFS LC-40', 'value': 'CCAFS LC-40'},\n                                            {'label': 'VAFB SLC-4E', 'value': 'VAFB SLC-4E'},\n                                            {'label': 'KSC LC-39A', 'value': 'KSC LC-39A'},\n                                            {'label': 'CCAFS SLC-40', 'value': 'CCAFS SLC-40'}], \n                                    placeholder='Select a Launch Site here',\n                                searchable=True, value='default'),\n                                html.Br(),\n\n                                # TASK 2: Add a pie chart to show the total successful launches count for all sites\n                                # If a specific launch site was selected, show the Success vs. Failed counts for the site\n                                html.Div(dcc.Graph(id='success-pie-chart')),\n                                html.Br(),\n\n                                html.P(\"Payload range (Kg):\"),\n                                # TASK 3: Add a slider to select payload range\n                                dcc.RangeSlider(id='payload-slider', min=0, max=10000, step=1000, value=[min_payload, max_payload]),\n\n                                # TASK 4: Add a scatter chart to show the correlation between payload and launch success\n                                html.Div(dcc.Graph(id='success-payload-scatter-chart')),\n                                ])\n\n# TASK 2:\n# Add a callback function for `site-dropdown` as input, `success-pie-chart` as output\n# Callback decorator\n@app.callback( Output(component_id='success-pie-chart', component_property='figure'),\n               Input(component_id='site-dropdown', component_property='value'))\n\ndef pie(site_dropdown):\n    if site_dropdown == 'default':\n        pie_fig = px.pie(spacex_df, values='class', names='Launch Site', title=\"Success Launches for All Sites\")\n        return pie_fig\n\n    else:\n        filtered_pie= spacex_df[spacex_df['Launch Site'] == site_dropdown]\n        class_pie=filtered_pie.groupby(['Launch Site', 'class']).size().reset_index(name='class count')\n        pie_fig = px.pie(class_pie, value='class count', names='class', title=\"Success Launches for Site\")\n        return pie_fig\n\n# TASK 4:\n# Add a callback function for `site-dropdown` and `payload-slider` as inputs, `success-payload-scatter-chart` as output\n@app.callback( Output(component_id='success-payload-scatter-chart', component_property='figure'),\n               [Input(component_id='site-dropdown', component_property='value'), Input(component_id=\"payload-slider\", component_property=\"value\")])\ndef scatter(site_dropdown, slider_range):\n    low, high = slider_range\n    masks = (spacex_df['Payload Mass (kg)'] > low) & (spacex_df['Payload Mass (kg)'] < high)\n    df_scatter = spacex_df[masks]\n\n    if site_dropdown == 'default':\n        scatter_fig = px.scatter(df_scatter, x=\"Payload Mass (kg)\", y=\"class\", color=\"Booster Version Category\",\n        title='Payload Success Rate for All Sites')\n        return scatter_fig\n\n    else:\n        filtered_scatter = df_scatter[df_scatter['Launch Site'] == site_dropdown]\n        scatter_fig = px.scatter(filtered_scatter, x=\"Payload Mass (kg)\", y=\"class\", color=\"Booster Version Category\", title=f'Payload Susccess Rate for {site_dropdown}')\n        return scatter_fig \n\n# Run the app\nif __name__ == '__main__':\n    app.run_server()"
        },
        {
            "cell_type": "markdown",
            "metadata": {},
            "source": "## Dashboard Outcomes"
        },
        {
            "cell_type": "markdown",
            "metadata": {},
            "source": "\n*    Which site has the largest successful launches? <font color='blue'>KSC-LC-39A with 10 successes</font>\n*    Which site has the highest launch success rate? <font color='blue'>KSC-LC-39A with 10/13 successes</font>\n*    Which payload range(s) has the highest launch success rate? <font color='blue'>2000-4000 kg with 14/22 = 63.6364%</font>\n*    Which payload range(s) has the lowest launch success rate? <font color='blue'>5000-7000 kg with 0</font>\n*    Which F9 Booster version (v1.0, v1.1, FT, B4, B5, etc.) has the highest? <font color='blue'>FT with 14</font>\n"
        },
        {
            "cell_type": "code",
            "execution_count": null,
            "metadata": {},
            "outputs": [],
            "source": ""
        }
    ],
    "metadata": {
        "kernelspec": {
            "display_name": "Python 3.8",
            "language": "python",
            "name": "python3"
        },
        "language_info": {
            "codemirror_mode": {
                "name": "ipython",
                "version": 3
            },
            "file_extension": ".py",
            "mimetype": "text/x-python",
            "name": "python",
            "nbconvert_exporter": "python",
            "pygments_lexer": "ipython3",
            "version": "3.8.12"
        }
    },
    "nbformat": 4,
    "nbformat_minor": 1
}