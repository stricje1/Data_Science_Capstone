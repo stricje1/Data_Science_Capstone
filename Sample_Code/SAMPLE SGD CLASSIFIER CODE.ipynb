{
 "cells": [
  {
   "cell_type": "markdown",
   "metadata": {},
   "source": [
    "# SAMPLE SGD CLASSIFIER CODE"
   ]
  },
  {
   "cell_type": "code",
   "execution_count": 22,
   "metadata": {},
   "outputs": [],
   "source": [
    "import pandas as pd\n",
    "from sklearn.model_selection import train_test_split\n",
    "\n",
    "dataset = pd.read_csv('D:/Documents/Data/Mall_Customers.csv')\n",
    "y = dataset[['Gender']]\n",
    "X = dataset[['Annual Income (k$)']]\n",
    "\n",
    "X_train, X_test, y_train, y_test = train_test_split(X, y, test_size=0.3, random_state=1234)"
   ]
  },
  {
   "cell_type": "code",
   "execution_count": 23,
   "metadata": {},
   "outputs": [
    {
     "name": "stdout",
     "output_type": "stream",
     "text": [
      "-------------FITTING MODELS-------------\n"
     ]
    },
    {
     "name": "stderr",
     "output_type": "stream",
     "text": [
      "[Parallel(n_jobs=-1)]: Using backend LokyBackend with 8 concurrent workers.\n",
      "[Parallel(n_jobs=-1)]: Done   2 tasks      | elapsed:    7.3s\n",
      "[Parallel(n_jobs=-1)]: Done   9 tasks      | elapsed:    7.9s\n",
      "[Parallel(n_jobs=-1)]: Done  19 out of  30 | elapsed:    8.4s remaining:    4.8s\n",
      "[Parallel(n_jobs=-1)]: Done  23 out of  30 | elapsed:    8.8s remaining:    2.6s\n",
      "[Parallel(n_jobs=-1)]: Done  27 out of  30 | elapsed:    8.9s remaining:    0.9s\n",
      "[Parallel(n_jobs=-1)]: Done  30 out of  30 | elapsed:    9.0s finished\n",
      "[Parallel(n_jobs=-1)]: Using backend LokyBackend with 8 concurrent workers.\n"
     ]
    },
    {
     "name": "stdout",
     "output_type": "stream",
     "text": [
      "-------------SCORING MODELS-------------\n"
     ]
    },
    {
     "name": "stderr",
     "output_type": "stream",
     "text": [
      "[Parallel(n_jobs=-1)]: Done  30 out of  30 | elapsed:    0.8s finished\n"
     ]
    },
    {
     "data": {
      "image/png": "[encoded data removed]",
      "text/plain": [
       "<Figure size 360x288 with 2 Axes>"
      ]
     },
     "metadata": {
      "needs_background": "light"
     },
     "output_type": "display_data"
    },
    {
     "name": "stdout",
     "output_type": "stream",
     "text": [
      "RandomForestClassifier(bootstrap=True, class_weight=None, criterion='gini',\n",
      "            max_depth=None, max_features='sqrt', max_leaf_nodes=None,\n",
      "            min_impurity_decrease=0.0, min_impurity_split=None,\n",
      "            min_samples_leaf=5, min_samples_split=2,\n",
      "            min_weight_fraction_leaf=0.0, n_estimators=60, n_jobs=-1,\n",
      "            oob_score=False, random_state=42, verbose=0, warm_start=False) 0.5683333333333334\n"
     ]
    }
   ],
   "source": [
    "from parfit import bestFit # Necessary if you wish to use bestFit\n",
    "from sklearn.model_selection import train_test_split\n",
    "from sklearn.linear_model import SGDClassifier\n",
    "from sklearn.ensemble import RandomForestClassifier\n",
    "from sklearn.model_selection import ParameterGrid\n",
    "from sklearn.metrics import roc_auc_score\n",
    "\n",
    "# Necessary if you wish to run each step sequentially\n",
    "from parfit.fit import *\n",
    "from parfit.score import *\n",
    "from parfit.plot import *\n",
    "from parfit.crossval import *\n",
    "\n",
    "grid = {\n",
    "    'min_samples_leaf': [1, 5, 10, 15, 20, 25],\n",
    "    'max_features': ['sqrt', 'log2', 0.5, 0.6, 0.7],\n",
    "    'n_estimators': [60],\n",
    "    'n_jobs': [-1],\n",
    "    'random_state': [42]\n",
    "}\n",
    "paramGrid = ParameterGrid(grid)\n",
    "\n",
    "best_model, best_score, all_models, all_scores = bestFit(RandomForestClassifier(), paramGrid,\n",
    "                                                    X_train, y_train, X_test, y_test, # nfolds=5 [optional, instead of validation set]\n",
    "                                                    metric=roc_auc_score, greater_is_better=True, \n",
    "                                                    scoreLabel='AUC')\n",
    "\n",
    "print(best_model, best_score)"
   ]
  },
  {
   "cell_type": "code",
   "execution_count": 17,
   "metadata": {},
   "outputs": [
    {
     "name": "stdout",
     "output_type": "stream",
     "text": [
      "<sklearn.model_selection._search.ParameterGrid object at 0x0000021DC638A588>\n"
     ]
    }
   ],
   "source": []
  },
  {
   "cell_type": "code",
   "execution_count": 26,
   "metadata": {},
   "outputs": [
    {
     "data": {
      "image/png": "[encoded data removed]",
      "text/plain": [
       "<Figure size 432x288 with 1 Axes>"
      ]
     },
     "metadata": {
      "needs_background": "light"
     },
     "output_type": "display_data"
    }
   ],
   "source": [
    "from sklearn.metrics import roc_curve, auc\n",
    "import matplotlib.pyplot as plt\n",
    "%matplotlib inline\n",
    "\n",
    "def plot_roc_auc(actual, preds):\n",
    "    fpr, tpr, thresholds = roc_curve(actual, preds[:,1])\n",
    "    plt.plot(fpr, tpr,'r')\n",
    "    plt.plot([0,1],[0,1],'b')\n",
    "    plt.title('AUC: {}'.format(auc(fpr,tpr)))\n",
    "    plt.show()\n",
    "    \n",
    "plot_roc_auc(y_test, best_model.predict_proba(X_test))"
   ]
  },
  {
   "cell_type": "code",
   "execution_count": null,
   "metadata": {},
   "outputs": [],
   "source": []
  }
 ],
 "metadata": {
  "kernelspec": {
   "display_name": "Python 3",
   "language": "python",
   "name": "python3"
  },
  "language_info": {
   "codemirror_mode": {
    "name": "ipython",
    "version": 3
   },
   "file_extension": ".py",
   "mimetype": "text/x-python",
   "name": "python",
   "nbconvert_exporter": "python",
   "pygments_lexer": "ipython3",
   "version": "3.6.9"
  }
 },
 "nbformat": 4,
 "nbformat_minor": 2
}
