{
 "cells": [
  {
   "cell_type": "markdown",
   "metadata": {},
   "source": [
    "# NLP Preprocessing and Feature Extraction"
   ]
  },
  {
   "cell_type": "code",
   "execution_count": null,
   "metadata": {},
   "outputs": [],
   "source": [
    "from sklearn.feature_extraction.text import TfidfVectorizer\n",
    "from nltk.corpus import stopwords\n",
    "import pandas as pd\n",
    "import string"
   ]
  },
  {
   "cell_type": "code",
   "execution_count": 20,
   "metadata": {},
   "outputs": [
    {
     "data": {
      "text/html": [
       "<div>\n",
       "<style scoped>\n",
       "    .dataframe tbody tr th:only-of-type {\n",
       "        vertical-align: middle;\n",
       "    }\n",
       "\n",
       "    .dataframe tbody tr th {\n",
       "        vertical-align: top;\n",
       "    }\n",
       "\n",
       "    .dataframe thead th {\n",
       "        text-align: right;\n",
       "    }\n",
       "</style>\n",
       "<table border=\"1\" class=\"dataframe\">\n",
       "  <thead>\n",
       "    <tr style=\"text-align: right;\">\n",
       "      <th></th>\n",
       "      <th>complaint_id</th>\n",
       "      <th>product_group</th>\n",
       "      <th>text</th>\n",
       "      <th>category_id</th>\n",
       "    </tr>\n",
       "  </thead>\n",
       "  <tbody>\n",
       "    <tr>\n",
       "      <th>0</th>\n",
       "      <td>2589077</td>\n",
       "      <td>loan</td>\n",
       "      <td>Two private loans have with them very discharg...</td>\n",
       "      <td>0</td>\n",
       "    </tr>\n",
       "    <tr>\n",
       "      <th>1</th>\n",
       "      <td>2883052</td>\n",
       "      <td>loan</td>\n",
       "      <td>attach a letter dated explaining dropped the v...</td>\n",
       "      <td>0</td>\n",
       "    </tr>\n",
       "    <tr>\n",
       "      <th>2</th>\n",
       "      <td>2767596</td>\n",
       "      <td>credit_reporting</td>\n",
       "      <td>Please see attached Complaint Number against c...</td>\n",
       "      <td>1</td>\n",
       "    </tr>\n",
       "    <tr>\n",
       "      <th>3</th>\n",
       "      <td>1571756</td>\n",
       "      <td>loan</td>\n",
       "      <td>feel as though 've been subjected to predatory...</td>\n",
       "      <td>0</td>\n",
       "    </tr>\n",
       "    <tr>\n",
       "      <th>4</th>\n",
       "      <td>2283723</td>\n",
       "      <td>loan</td>\n",
       "      <td>a veteran living on social security and cosign...</td>\n",
       "      <td>0</td>\n",
       "    </tr>\n",
       "  </tbody>\n",
       "</table>\n",
       "</div>"
      ],
      "text/plain": [
       "   complaint_id     product_group  \\\n",
       "0       2589077              loan   \n",
       "1       2883052              loan   \n",
       "2       2767596  credit_reporting   \n",
       "3       1571756              loan   \n",
       "4       2283723              loan   \n",
       "\n",
       "                                                text  category_id  \n",
       "0  Two private loans have with them very discharg...            0  \n",
       "1  attach a letter dated explaining dropped the v...            0  \n",
       "2  Please see attached Complaint Number against c...            1  \n",
       "3  feel as though 've been subjected to predatory...            0  \n",
       "4  a veteran living on social security and cosign...            0  "
      ]
     },
     "execution_count": 20,
     "metadata": {},
     "output_type": "execute_result"
    }
   ],
   "source": [
    "corp = df\n",
    "corp = corp[pd.notnull(corp['product_group'])]\n",
    "corp.columns = ['complaint_id','product_group','text']\n",
    "corp['category_id'] = corp['product_group'].factorize()[0]\n",
    "category_id_corp = corp[['product_group', 'category_id']].drop_duplicates().sort_values('category_id')\n",
    "category_to_id = dict(category_id_corp.values)\n",
    "id_to_category = dict(category_id_corp[['category_id', 'product_group']].values)\n",
    "corp.head()"
   ]
  },
  {
   "cell_type": "code",
   "execution_count": 36,
   "metadata": {},
   "outputs": [],
   "source": [
    "df = pd.read_csv(\"D:/Documents/Data/case_study_data_tiny.csv\")\n",
    "y_train = corp['product_group']\n",
    "X_train = corp['text']"
   ]
  },
  {
   "cell_type": "code",
   "execution_count": 38,
   "metadata": {},
   "outputs": [
    {
     "data": {
      "text/plain": [
       "(49999, 49999)"
      ]
     },
     "execution_count": 38,
     "metadata": {},
     "output_type": "execute_result"
    }
   ],
   "source": [
    "X_train.shape[0], y_train.shape[0]"
   ]
  },
  {
   "cell_type": "code",
   "execution_count": 39,
   "metadata": {},
   "outputs": [],
   "source": [
    "from sklearn.feature_extraction.text import TfidfVectorizer"
   ]
  },
  {
   "cell_type": "code",
   "execution_count": 41,
   "metadata": {},
   "outputs": [
    {
     "data": {
      "text/plain": [
       "(49999, 49999)"
      ]
     },
     "execution_count": 41,
     "metadata": {},
     "output_type": "execute_result"
    }
   ],
   "source": [
    "#DO NOT CHANGE#\n",
    "tfidf= TfidfVectorizer(sublinear_tf=True, \n",
    "                       min_df=5, \n",
    "                       norm='l2', \n",
    "                       encoding='latin-1', \n",
    "                       ngram_range=(1, 3), \n",
    "                       stop_words='english',\n",
    "                       lowercase=True,       \n",
    "                       token_pattern=r'\\b\\w+\\b',       \n",
    "                       analyzer='word', \n",
    "                      )\n",
    "features = tfidf.fit_transform(X_train) #CORRECT TRANSFORM\n",
    "labels = y_train #CORRECT LABEL\n",
    "X_train.shape[0], labels.shape[0]"
   ]
  },
  {
   "cell_type": "code",
   "execution_count": 61,
   "metadata": {},
   "outputs": [
    {
     "name": "stdout",
     "output_type": "stream",
     "text": [
      "# 'loan':\n",
      " . Most correlated unigrams:\n",
      "     . loans\n",
      "     . navient\n",
      "     . loan\n",
      " . Most correlated bigrams:\n",
      "     . repayment plan\n",
      "     . student loan\n",
      "     . student loans\n",
      " . Most correlated trigrams:\n",
      "     . income driven repayment\n",
      "     . based repayment plan\n",
      "     . income based repayment\n",
      "# 'credit_reporting':\n",
      " . Most correlated unigrams:\n",
      "     . inquiries\n",
      "     . experian\n",
      "     . equifax\n",
      " . Most correlated bigrams:\n",
      "     . credit reporting\n",
      "     . credit file\n",
      "     . credit report\n",
      " . Most correlated trigrams:\n",
      "     . mistakes appear report\n",
      "     . appear report understanding\n",
      "     . inquiries credit report\n",
      "# 'debt_collection':\n",
      " . Most correlated unigrams:\n",
      "     . collect\n",
      "     . collection\n",
      "     . debt\n",
      " . Most correlated bigrams:\n",
      "     . debt collection\n",
      "     . collection agency\n",
      "     . collect debt\n",
      " . Most correlated trigrams:\n",
      "     . debt collection agency\n",
      "     . attempting collect debt\n",
      "     . trying collect debt\n",
      "# 'bank_service':\n",
      " . Most correlated unigrams:\n",
      "     . checking\n",
      "     . overdraft\n",
      "     . bank\n",
      " . Most correlated bigrams:\n",
      "     . savings account\n",
      "     . overdraft fees\n",
      "     . checking account\n",
      " . Most correlated trigrams:\n",
      "     . citigold checking account\n",
      "     . checking account bank\n",
      "     . opened checking account\n",
      "# 'credit_card':\n",
      " . Most correlated unigrams:\n",
      "     . rewards\n",
      "     . express\n",
      "     . card\n",
      " . Most correlated bigrams:\n",
      "     . card company\n",
      "     . american express\n",
      "     . credit card\n",
      " . Most correlated trigrams:\n",
      "     . american express card\n",
      "     . credit card account\n",
      "     . credit card company\n",
      "# 'money_transfers':\n",
      " . Most correlated unigrams:\n",
      "     . western\n",
      "     . wire\n",
      "     . coinbase\n",
      " . Most correlated bigrams:\n",
      "     . wire transfer\n",
      "     . coinbase account\n",
      "     . western union\n",
      " . Most correlated trigrams:\n",
      "     . www coinbase com\n",
      "     . bank account coinbase\n",
      "     . called western union\n"
     ]
    }
   ],
   "source": [
    "from sklearn.feature_selection import chi2\n",
    "import numpy as np\n",
    "N = 3\n",
    "for product_group, category_id in sorted(id_to_category.items()):\n",
    "    features_chi2 = chi2(features,labels == category_id)\n",
    "    indices = np.argsort(features_chi2[0])\n",
    "    feature_names = np.array(tfidf.get_feature_names())[indices]\n",
    "    unigrams = [v for v in feature_names if len(v.split(' ')) == 1]\n",
    "    bigrams = [v for v in feature_names if len(v.split(' ')) == 2]\n",
    "    trigrams = [v for v in feature_names if len(v.split(' ')) == 3]\n",
    "    print(\"# '{}':\".format(category_id))\n",
    "    print(\" . Most correlated unigrams:\\n     . {}\".format('\\n     . '.join(unigrams[-N:])))\n",
    "    print(\" . Most correlated bigrams:\\n     . {}\".format('\\n     . '.join(bigrams[-N:])))\n",
    "    print(\" . Most correlated trigrams:\\n     . {}\".format('\\n     . '.join(trigrams[-N:])))"
   ]
  },
  {
   "cell_type": "code",
   "execution_count": null,
   "metadata": {},
   "outputs": [],
   "source": []
  }
 ],
 "metadata": {
  "kernelspec": {
   "display_name": "Python 3",
   "language": "python",
   "name": "python3"
  },
  "language_info": {
   "codemirror_mode": {
    "name": "ipython",
    "version": 3
   },
   "file_extension": ".py",
   "mimetype": "text/x-python",
   "name": "python",
   "nbconvert_exporter": "python",
   "pygments_lexer": "ipython3",
   "version": "3.7.4"
  }
 },
 "nbformat": 4,
 "nbformat_minor": 2
}
