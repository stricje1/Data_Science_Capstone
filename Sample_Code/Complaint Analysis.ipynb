{
 "cells": [
  {
   "cell_type": "code",
   "execution_count": 1,
   "metadata": {
    "slideshow": {
     "slide_type": "skip"
    }
   },
   "outputs": [],
   "source": [
    "#Standard packages\n",
    "import pandas as pd\n",
    "import numpy as np\n",
    "import matplotlib\n",
    "\n",
    "#Natural Language Toolkit\n",
    "import nltk\n",
    "from nltk.corpus import stopwords\n",
    "from nltk.tokenize import word_tokenize\n",
    "\n",
    "#Plotting\n",
    "from matplotlib import pyplot as plt\n",
    "import seaborn as sns\n",
    "# Allow plots in Notebook\n",
    "%matplotlib inline"
   ]
  },
  {
   "cell_type": "code",
   "execution_count": 9,
   "metadata": {
    "slideshow": {
     "slide_type": "fragment"
    }
   },
   "outputs": [
    {
     "data": {
      "text/html": [
       "<div>\n",
       "<style scoped>\n",
       "    .dataframe tbody tr th:only-of-type {\n",
       "        vertical-align: middle;\n",
       "    }\n",
       "\n",
       "    .dataframe tbody tr th {\n",
       "        vertical-align: top;\n",
       "    }\n",
       "\n",
       "    .dataframe thead th {\n",
       "        text-align: right;\n",
       "    }\n",
       "</style>\n",
       "<table border=\"1\" class=\"dataframe\">\n",
       "  <thead>\n",
       "    <tr style=\"text-align: right;\">\n",
       "      <th></th>\n",
       "      <th>product</th>\n",
       "      <th>text</th>\n",
       "      <th>company</th>\n",
       "      <th>tags</th>\n",
       "      <th>date_sent_to_company</th>\n",
       "      <th>complaint_id</th>\n",
       "    </tr>\n",
       "  </thead>\n",
       "  <tbody>\n",
       "    <tr>\n",
       "      <td>0</td>\n",
       "      <td>Checking or savings account</td>\n",
       "      <td>a check was cashed and remained good until aft...</td>\n",
       "      <td>JPMORGAN CHASE  CO.</td>\n",
       "      <td>Servicemember</td>\n",
       "      <td>7/10/2015</td>\n",
       "      <td>1462503</td>\n",
       "    </tr>\n",
       "    <tr>\n",
       "      <td>1</td>\n",
       "      <td>Checking or savings account</td>\n",
       "      <td>a criminal used a bank of america account to s...</td>\n",
       "      <td>BANK OF AMERICA NATIONAL ASSOCIATION</td>\n",
       "      <td>Servicemember</td>\n",
       "      <td>7/27/2016</td>\n",
       "      <td>2032733</td>\n",
       "    </tr>\n",
       "    <tr>\n",
       "      <td>2</td>\n",
       "      <td>Checking or savings account</td>\n",
       "      <td>a merchant submitted an ach 2 12 weeks after t...</td>\n",
       "      <td>JPMORGAN CHASE  CO.</td>\n",
       "      <td>Servicemember</td>\n",
       "      <td>5/23/2016</td>\n",
       "      <td>1935716</td>\n",
       "    </tr>\n",
       "    <tr>\n",
       "      <td>3</td>\n",
       "      <td>Checking or savings account</td>\n",
       "      <td>a person deposited my check in suntrust bank i...</td>\n",
       "      <td>SUNTRUST BANKS INC.</td>\n",
       "      <td>Servicemember</td>\n",
       "      <td>3/23/2015</td>\n",
       "      <td>1296735</td>\n",
       "    </tr>\n",
       "    <tr>\n",
       "      <td>4</td>\n",
       "      <td>Checking or savings account</td>\n",
       "      <td>a stop payment was requested for funds being t...</td>\n",
       "      <td>E*TRADE BANK</td>\n",
       "      <td>Servicemember</td>\n",
       "      <td>2/9/2016</td>\n",
       "      <td>1774263</td>\n",
       "    </tr>\n",
       "  </tbody>\n",
       "</table>\n",
       "</div>"
      ],
      "text/plain": [
       "                       product  \\\n",
       "0  Checking or savings account   \n",
       "1  Checking or savings account   \n",
       "2  Checking or savings account   \n",
       "3  Checking or savings account   \n",
       "4  Checking or savings account   \n",
       "\n",
       "                                                text  \\\n",
       "0  a check was cashed and remained good until aft...   \n",
       "1  a criminal used a bank of america account to s...   \n",
       "2  a merchant submitted an ach 2 12 weeks after t...   \n",
       "3  a person deposited my check in suntrust bank i...   \n",
       "4  a stop payment was requested for funds being t...   \n",
       "\n",
       "                                company           tags date_sent_to_company  \\\n",
       "0                   JPMORGAN CHASE  CO.  Servicemember            7/10/2015   \n",
       "1  BANK OF AMERICA NATIONAL ASSOCIATION  Servicemember            7/27/2016   \n",
       "2                   JPMORGAN CHASE  CO.  Servicemember            5/23/2016   \n",
       "3                   SUNTRUST BANKS INC.  Servicemember            3/23/2015   \n",
       "4                          E*TRADE BANK  Servicemember             2/9/2016   \n",
       "\n",
       "   complaint_id  \n",
       "0       1462503  \n",
       "1       2032733  \n",
       "2       1935716  \n",
       "3       1296735  \n",
       "4       1774263  "
      ]
     },
     "execution_count": 9,
     "metadata": {},
     "output_type": "execute_result"
    }
   ],
   "source": [
    "# Import complaint data\n",
    "dta = pd.read_csv(\"D:/Documents/Data/scra_complaint_data.csv\",encoding=\"ISO-8859-1\")\n",
    "dta.head(5)"
   ]
  },
  {
   "cell_type": "code",
   "execution_count": 10,
   "metadata": {},
   "outputs": [
    {
     "data": {
      "text/html": [
       "<div>\n",
       "<style scoped>\n",
       "    .dataframe tbody tr th:only-of-type {\n",
       "        vertical-align: middle;\n",
       "    }\n",
       "\n",
       "    .dataframe tbody tr th {\n",
       "        vertical-align: top;\n",
       "    }\n",
       "\n",
       "    .dataframe thead th {\n",
       "        text-align: right;\n",
       "    }\n",
       "</style>\n",
       "<table border=\"1\" class=\"dataframe\">\n",
       "  <thead>\n",
       "    <tr style=\"text-align: right;\">\n",
       "      <th></th>\n",
       "      <th>product</th>\n",
       "      <th>company</th>\n",
       "      <th>text</th>\n",
       "    </tr>\n",
       "  </thead>\n",
       "  <tbody>\n",
       "    <tr>\n",
       "      <td>0</td>\n",
       "      <td>Checking or savings account</td>\n",
       "      <td>JPMORGAN CHASE  CO.</td>\n",
       "      <td>a check was cashed and remained good until aft...</td>\n",
       "    </tr>\n",
       "    <tr>\n",
       "      <td>1</td>\n",
       "      <td>Checking or savings account</td>\n",
       "      <td>BANK OF AMERICA NATIONAL ASSOCIATION</td>\n",
       "      <td>a criminal used a bank of america account to s...</td>\n",
       "    </tr>\n",
       "    <tr>\n",
       "      <td>2</td>\n",
       "      <td>Checking or savings account</td>\n",
       "      <td>JPMORGAN CHASE  CO.</td>\n",
       "      <td>a merchant submitted an ach 2 12 weeks after t...</td>\n",
       "    </tr>\n",
       "    <tr>\n",
       "      <td>3</td>\n",
       "      <td>Checking or savings account</td>\n",
       "      <td>SUNTRUST BANKS INC.</td>\n",
       "      <td>a person deposited my check in suntrust bank i...</td>\n",
       "    </tr>\n",
       "    <tr>\n",
       "      <td>4</td>\n",
       "      <td>Checking or savings account</td>\n",
       "      <td>E*TRADE BANK</td>\n",
       "      <td>a stop payment was requested for funds being t...</td>\n",
       "    </tr>\n",
       "  </tbody>\n",
       "</table>\n",
       "</div>"
      ],
      "text/plain": [
       "                       product                               company  \\\n",
       "0  Checking or savings account                   JPMORGAN CHASE  CO.   \n",
       "1  Checking or savings account  BANK OF AMERICA NATIONAL ASSOCIATION   \n",
       "2  Checking or savings account                   JPMORGAN CHASE  CO.   \n",
       "3  Checking or savings account                   SUNTRUST BANKS INC.   \n",
       "4  Checking or savings account                          E*TRADE BANK   \n",
       "\n",
       "                                                text  \n",
       "0  a check was cashed and remained good until aft...  \n",
       "1  a criminal used a bank of america account to s...  \n",
       "2  a merchant submitted an ach 2 12 weeks after t...  \n",
       "3  a person deposited my check in suntrust bank i...  \n",
       "4  a stop payment was requested for funds being t...  "
      ]
     },
     "execution_count": 10,
     "metadata": {},
     "output_type": "execute_result"
    }
   ],
   "source": [
    "df = dta[['product', 'company', 'text']]\n",
    "df.head(5)"
   ]
  },
  {
   "cell_type": "code",
   "execution_count": 12,
   "metadata": {
    "slideshow": {
     "slide_type": "fragment"
    }
   },
   "outputs": [
    {
     "data": {
      "text/plain": [
       "(0        a check was cashed and remained good until aft...\n",
       " 1        a criminal used a bank of america account to s...\n",
       " 2        a merchant submitted an ach 2 12 weeks after t...\n",
       " 3        a person deposited my check in suntrust bank i...\n",
       " 4        a stop payment was requested for funds being t...\n",
       "                                ...                        \n",
       " 20152    you closed my case why? as a veteran with proo...\n",
       " 20153    you r group cfpb has been absolutely no help w...\n",
       " 20154    you said that you need moor information on cas...\n",
       " 20155    your submission [ case number ] how do i get t...\n",
       " 20156    your support in this matter is appreciated in ...\n",
       " Name: text, Length: 20157, dtype: object, 0        Checking or savings account\n",
       " 1        Checking or savings account\n",
       " 2        Checking or savings account\n",
       " 3        Checking or savings account\n",
       " 4        Checking or savings account\n",
       "                     ...             \n",
       " 20152                       Mortgage\n",
       " 20153                       Mortgage\n",
       " 20154                       Mortgage\n",
       " 20155                       Mortgage\n",
       " 20156                       Mortgage\n",
       " Name: product, Length: 20157, dtype: object)"
      ]
     },
     "execution_count": 12,
     "metadata": {},
     "output_type": "execute_result"
    }
   ],
   "source": [
    "# Define dependent and independent vairables\n",
    "df.rename(columns={'Consumer complaint narrative': 'text'}, inplace=True)\n",
    "X = df['text']\n",
    "y = df['product']\n",
    "X,y"
   ]
  },
  {
   "cell_type": "code",
   "execution_count": 13,
   "metadata": {
    "slideshow": {
     "slide_type": "slide"
    }
   },
   "outputs": [],
   "source": [
    "# Get random train and test subsets\n",
    "from sklearn.model_selection import train_test_split\n",
    "X_train, X_test, y_train, y_test = train_test_split(X, y, test_size=0.3, random_state=1234)"
   ]
  },
  {
   "cell_type": "code",
   "execution_count": 14,
   "metadata": {
    "slideshow": {
     "slide_type": "fragment"
    }
   },
   "outputs": [],
   "source": [
    "from sklearn.feature_extraction.text import CountVectorizer\n",
    "from sklearn.feature_extraction.text import TfidfTransformer"
   ]
  },
  {
   "cell_type": "code",
   "execution_count": 18,
   "metadata": {
    "slideshow": {
     "slide_type": "slide"
    }
   },
   "outputs": [
    {
     "data": {
      "text/plain": [
       "1847     on wells fargo withdrew 5500 00 from checking ...\n",
       "6653     amount due is zero rental apartment lease was ...\n",
       "17764    in i applied for mortgage refinancing under th...\n",
       "16239    first of all we hav e us b ank for our mortgag...\n",
       "5975     the payment system and deceptive billing pract...\n",
       "Name: text, dtype: object"
      ]
     },
     "execution_count": 18,
     "metadata": {},
     "output_type": "execute_result"
    }
   ],
   "source": [
    "# Inspect the dataset\n",
    "X_train.head()"
   ]
  },
  {
   "cell_type": "code",
   "execution_count": 19,
   "metadata": {},
   "outputs": [
    {
     "data": {
      "text/plain": [
       "1847     Checking or savings account\n",
       "6653                 Debt collection\n",
       "17764                       Mortgage\n",
       "16239                       Mortgage\n",
       "5975                     Credit card\n",
       "Name: product, dtype: object"
      ]
     },
     "execution_count": 19,
     "metadata": {},
     "output_type": "execute_result"
    }
   ],
   "source": [
    "y_train.head()"
   ]
  },
  {
   "cell_type": "markdown",
   "metadata": {
    "slideshow": {
     "slide_type": "slide"
    }
   },
   "source": [
    "### Train and Test BOWs"
   ]
  },
  {
   "cell_type": "code",
   "execution_count": 20,
   "metadata": {
    "slideshow": {
     "slide_type": "fragment"
    }
   },
   "outputs": [],
   "source": [
    "# Build bag-of-words model\n",
    "vectorizer = CountVectorizer()\n",
    "bow_transformer_train=CountVectorizer().fit(X_train)\n",
    "bow_transformer_test=CountVectorizer().fit(X_test)\n",
    "\n",
    "bow_transformer=vectorizer.fit(X_train)\n",
    "text_bow_train=bow_transformer.transform(X_train)#ONLY TRAINING DATA\n",
    "text_bow_test=bow_transformer.transform(X_test)#ONLY TEST DATA"
   ]
  },
  {
   "cell_type": "markdown",
   "metadata": {
    "slideshow": {
     "slide_type": "slide"
    }
   },
   "source": [
    "### BOW Analysis with a Multi-Layer Perceptron (MLP) classifier "
   ]
  },
  {
   "cell_type": "code",
   "execution_count": 21,
   "metadata": {
    "slideshow": {
     "slide_type": "fragment"
    }
   },
   "outputs": [],
   "source": [
    "#from sklearn.datasets import fetch_openml\n",
    "from sklearn.neural_network import MLPClassifier"
   ]
  },
  {
   "cell_type": "code",
   "execution_count": 23,
   "metadata": {
    "slideshow": {
     "slide_type": "fragment"
    }
   },
   "outputs": [
    {
     "name": "stdout",
     "output_type": "stream",
     "text": [
      "Iteration 1, loss = 1.73248790\n",
      "Iteration 2, loss = 1.34779837\n",
      "Iteration 3, loss = 1.34768904\n",
      "Iteration 4, loss = 1.34754786\n",
      "Iteration 5, loss = 1.34773869\n",
      "Iteration 6, loss = 1.34778481\n",
      "Iteration 7, loss = 1.34729563\n",
      "Iteration 8, loss = 1.34765769\n",
      "Iteration 9, loss = 1.34711303\n",
      "Iteration 10, loss = 1.29524140\n",
      "Iteration 11, loss = 1.34835785\n",
      "Iteration 12, loss = 1.34711370\n",
      "Iteration 13, loss = 1.34665313\n",
      "Iteration 14, loss = 1.34628773\n",
      "Iteration 15, loss = 1.34591992\n",
      "Iteration 16, loss = 1.34570059\n",
      "Iteration 17, loss = 1.34429887\n",
      "Iteration 18, loss = 1.34267294\n",
      "Iteration 19, loss = 1.28326913\n",
      "Iteration 20, loss = 1.06119102\n",
      "Iteration 21, loss = 1.07079467\n",
      "Iteration 22, loss = 0.96748795\n",
      "Iteration 23, loss = 0.96864277\n",
      "Iteration 24, loss = 1.40758057\n",
      "Iteration 25, loss = 1.35087982\n",
      "Iteration 26, loss = 1.34935372\n",
      "Iteration 27, loss = 1.34849173\n",
      "Iteration 28, loss = 1.34837836\n",
      "Iteration 29, loss = 1.34773320\n",
      "Iteration 30, loss = 1.34770776\n",
      "Iteration 31, loss = 1.34763745\n",
      "Iteration 32, loss = 1.34720061\n",
      "Iteration 33, loss = 1.34710240\n",
      "Training loss did not improve more than tol=0.000100 for 10 consecutive epochs. Stopping.\n",
      "Training set score: 0.468708\n",
      "Test set score: 0.460483\n"
     ]
    }
   ],
   "source": [
    "# Perform BOW Analysis with a Multi-Layer Perceptron (MLP) classifier\n",
    "# Grab some coffee - this may take a while\n",
    "\n",
    "mlp = MLPClassifier(hidden_layer_sizes=(20,), max_iter=35, alpha=1e-4,\n",
    "                    solver='sgd', verbose=10, random_state=1,\n",
    "                    learning_rate_init=.1)\n",
    "\n",
    "# Print training scores\n",
    "mlp.fit(text_bow_train, y_train)\n",
    "print(\"Training set score: %f\" % mlp.score(text_bow_train, y_train))\n",
    "print(\"Test set score: %f\" % mlp.score(text_bow_test, y_test))"
   ]
  },
  {
   "cell_type": "code",
   "execution_count": 24,
   "metadata": {
    "slideshow": {
     "slide_type": "fragment"
    }
   },
   "outputs": [
    {
     "data": {
      "text/plain": [
       "0.46048280423280424"
      ]
     },
     "execution_count": 24,
     "metadata": {},
     "output_type": "execute_result"
    }
   ],
   "source": [
    "y_pred = mlp.predict(text_bow_test)\n",
    "y_pred_score = mlp.score(text_bow_test,y_test)\n",
    "y_pred_score"
   ]
  },
  {
   "cell_type": "code",
   "execution_count": 25,
   "metadata": {},
   "outputs": [
    {
     "name": "stdout",
     "output_type": "stream",
     "text": [
      "0.9036076263377986\n"
     ]
    }
   ],
   "source": [
    "# instantiating the model with Multinomial Naive Bayes..\n",
    "from sklearn.naive_bayes import MultinomialNB\n",
    "mnb_clf = MultinomialNB()\n",
    "\n",
    "# training the model...\n",
    "mnb_clf = mnb_clf.fit(text_bow_train, y_train)\n",
    "mnb_clf.score(text_bow_train, y_train)\n",
    "print(mnb_clf.score(text_bow_train, y_train))"
   ]
  },
  {
   "cell_type": "code",
   "execution_count": 26,
   "metadata": {},
   "outputs": [
    {
     "data": {
      "text/plain": [
       "0.859292328042328"
      ]
     },
     "execution_count": 26,
     "metadata": {},
     "output_type": "execute_result"
    }
   ],
   "source": [
    "y_pred = mnb_clf.predict(text_bow_test)\n",
    "mnb_clf.score(text_bow_test, y_test)"
   ]
  },
  {
   "cell_type": "code",
   "execution_count": 27,
   "metadata": {},
   "outputs": [
    {
     "name": "stdout",
     "output_type": "stream",
     "text": [
      "Accuracy: 85.929%\n",
      "F1 Score:  0.7292542281214203\n",
      "Precision Score:  0.8076726165965551\n",
      "Recall Score:  0.7214796041458127\n"
     ]
    }
   ],
   "source": [
    "from sklearn.metrics import f1_score, precision_score, recall_score\n",
    "#mnb = MultinomialNB.fit(text_bow_train, y_train)\n",
    "#y_pred = mnb.predict(text_bow_test)\n",
    "#result = mnb.score(y_pred, y_test)\n",
    "print(\"Accuracy: %.3f%%\" % ((mnb_clf.score(text_bow_test, y_test))*100.0))\n",
    "print(\"F1 Score: \", f1_score(y_test, y_pred, average=\"macro\"))\n",
    "print(\"Precision Score: \", precision_score(y_test, y_pred, average=\"macro\"))\n",
    "print(\"Recall Score: \", recall_score(y_test, y_pred, average=\"macro\")) "
   ]
  },
  {
   "cell_type": "code",
   "execution_count": 28,
   "metadata": {},
   "outputs": [],
   "source": [
    "from sklearn.linear_model import LogisticRegression\n",
    "from sklearn.ensemble import RandomForestClassifier\n",
    "from sklearn.svm import LinearSVC\n",
    "from sklearn.linear_model import RidgeClassifier\n",
    "from sklearn.linear_model import SGDClassifier, Perceptron\n",
    "from sklearn.naive_bayes import MultinomialNB\n",
    "from sklearn.model_selection import cross_val_score\n",
    "models = [\n",
    "    #RandomForestClassifier(n_estimators=200, max_depth=3, random_state=0),\n",
    "    LinearSVC(),\n",
    "    MultinomialNB(),\n",
    "    SGDClassifier(),\n",
    "    RidgeClassifier(tol=1e-2, solver=\"sag\"),\n",
    "    Perceptron(max_iter=25),\n",
    "    #KNeighborsClassifier(n_neighbors=10),\n",
    "    LogisticRegression(random_state=0),\n",
    "]"
   ]
  },
  {
   "cell_type": "code",
   "execution_count": 29,
   "metadata": {},
   "outputs": [
    {
     "name": "stderr",
     "output_type": "stream",
     "text": [
      "C:\\Users\\jeff\\Anaconda3\\lib\\site-packages\\sklearn\\svm\\base.py:929: ConvergenceWarning: Liblinear failed to converge, increase the number of iterations.\n",
      "  \"the number of iterations.\", ConvergenceWarning)\n",
      "C:\\Users\\jeff\\Anaconda3\\lib\\site-packages\\sklearn\\linear_model\\stochastic_gradient.py:561: ConvergenceWarning: Maximum number of iteration reached before convergence. Consider increasing max_iter to improve the fit.\n",
      "  ConvergenceWarning)\n",
      "C:\\Users\\jeff\\Anaconda3\\lib\\site-packages\\sklearn\\linear_model\\logistic.py:432: FutureWarning: Default solver will be changed to 'lbfgs' in 0.22. Specify a solver to silence this warning.\n",
      "  FutureWarning)\n",
      "C:\\Users\\jeff\\Anaconda3\\lib\\site-packages\\sklearn\\linear_model\\logistic.py:469: FutureWarning: Default multi_class will be changed to 'auto' in 0.22. Specify the multi_class option to silence this warning.\n",
      "  \"this warning.\", FutureWarning)\n",
      "C:\\Users\\jeff\\Anaconda3\\lib\\site-packages\\sklearn\\svm\\base.py:929: ConvergenceWarning: Liblinear failed to converge, increase the number of iterations.\n",
      "  \"the number of iterations.\", ConvergenceWarning)\n"
     ]
    },
    {
     "data": {
      "image/png": "[encoded data removed]",
      "text/plain": [
       "<Figure size 864x432 with 1 Axes>"
      ]
     },
     "metadata": {
      "needs_background": "light"
     },
     "output_type": "display_data"
    }
   ],
   "source": [
    "import seaborn as sns\n",
    "import warnings\n",
    "warnings.filterwarnings(\"ignore\",category=DeprecationWarning)\n",
    "\n",
    "CV = 5\n",
    "cv_df = pd.DataFrame(index=range(CV * len(models)))\n",
    "entries = []\n",
    "for model in models:\n",
    "  model_name = model.__class__.__name__\n",
    "  accuracies = cross_val_score(model, text_bow_train, y_train, scoring='accuracy', cv=CV)\n",
    "  for fold_idx, accuracy in enumerate(accuracies):\n",
    "    entries.append((model_name, fold_idx, accuracy))\n",
    "cv_df = pd.DataFrame(entries, columns=['model_name', 'fold_idx', 'accuracy'])\n",
    "import seaborn as sns\n",
    "plt.figure(figsize=[12,6])\n",
    "sns.boxplot(x='model_name', y='accuracy', data=cv_df)\n",
    "sns.stripplot(x='model_name', y='accuracy', data=cv_df, hue='model_name',\n",
    "              size=12, jitter=True, edgecolor=\"gray\", linewidth=2)\n",
    "plt.title('Classifier Accuracy Comparison', fontsize=14)\n",
    "plt.ylabel('Accuracy', fontsize=14)\n",
    "plt.xlabel('Classifier Name', fontsize=14)\n",
    "plt.xticks(fontsize=12)\n",
    "plt.yticks(fontsize=14)\n",
    "plt.show()"
   ]
  },
  {
   "cell_type": "code",
   "execution_count": 30,
   "metadata": {},
   "outputs": [
    {
     "data": {
      "text/plain": [
       "model_name\n",
       "LinearSVC             0.842302\n",
       "LogisticRegression    0.865265\n",
       "MultinomialNB         0.871572\n",
       "Perceptron            0.837054\n",
       "RidgeClassifier       0.766886\n",
       "SGDClassifier         0.858388\n",
       "Name: accuracy, dtype: float64"
      ]
     },
     "execution_count": 30,
     "metadata": {},
     "output_type": "execute_result"
    }
   ],
   "source": [
    "cv_df.groupby('model_name').accuracy.mean()"
   ]
  },
  {
   "cell_type": "markdown",
   "metadata": {
    "slideshow": {
     "slide_type": "slide"
    }
   },
   "source": [
    "### Confusion Matrices"
   ]
  },
  {
   "cell_type": "code",
   "execution_count": 31,
   "metadata": {},
   "outputs": [
    {
     "data": {
      "text/html": [
       "<div>\n",
       "<style scoped>\n",
       "    .dataframe tbody tr th:only-of-type {\n",
       "        vertical-align: middle;\n",
       "    }\n",
       "\n",
       "    .dataframe tbody tr th {\n",
       "        vertical-align: top;\n",
       "    }\n",
       "\n",
       "    .dataframe thead th {\n",
       "        text-align: right;\n",
       "    }\n",
       "</style>\n",
       "<table border=\"1\" class=\"dataframe\">\n",
       "  <thead>\n",
       "    <tr style=\"text-align: right;\">\n",
       "      <th></th>\n",
       "      <th>product</th>\n",
       "      <th>company</th>\n",
       "      <th>text</th>\n",
       "    </tr>\n",
       "  </thead>\n",
       "  <tbody>\n",
       "    <tr>\n",
       "      <td>0</td>\n",
       "      <td>Checking or savings account</td>\n",
       "      <td>JPMORGAN CHASE  CO.</td>\n",
       "      <td>a check was cashed and remained good until aft...</td>\n",
       "    </tr>\n",
       "    <tr>\n",
       "      <td>1</td>\n",
       "      <td>Checking or savings account</td>\n",
       "      <td>BANK OF AMERICA NATIONAL ASSOCIATION</td>\n",
       "      <td>a criminal used a bank of america account to s...</td>\n",
       "    </tr>\n",
       "    <tr>\n",
       "      <td>2</td>\n",
       "      <td>Checking or savings account</td>\n",
       "      <td>JPMORGAN CHASE  CO.</td>\n",
       "      <td>a merchant submitted an ach 2 12 weeks after t...</td>\n",
       "    </tr>\n",
       "    <tr>\n",
       "      <td>3</td>\n",
       "      <td>Checking or savings account</td>\n",
       "      <td>SUNTRUST BANKS INC.</td>\n",
       "      <td>a person deposited my check in suntrust bank i...</td>\n",
       "    </tr>\n",
       "    <tr>\n",
       "      <td>4</td>\n",
       "      <td>Checking or savings account</td>\n",
       "      <td>E*TRADE BANK</td>\n",
       "      <td>a stop payment was requested for funds being t...</td>\n",
       "    </tr>\n",
       "    <tr>\n",
       "      <td>...</td>\n",
       "      <td>...</td>\n",
       "      <td>...</td>\n",
       "      <td>...</td>\n",
       "    </tr>\n",
       "    <tr>\n",
       "      <td>20152</td>\n",
       "      <td>Mortgage</td>\n",
       "      <td>BANK OF AMERICA NATIONAL ASSOCIATION</td>\n",
       "      <td>you closed my case why? as a veteran with proo...</td>\n",
       "    </tr>\n",
       "    <tr>\n",
       "      <td>20153</td>\n",
       "      <td>Mortgage</td>\n",
       "      <td>WELLS FARGO  COMPANY</td>\n",
       "      <td>you r group cfpb has been absolutely no help w...</td>\n",
       "    </tr>\n",
       "    <tr>\n",
       "      <td>20154</td>\n",
       "      <td>Mortgage</td>\n",
       "      <td>JPMORGAN CHASE  CO.</td>\n",
       "      <td>you said that you need moor information on cas...</td>\n",
       "    </tr>\n",
       "    <tr>\n",
       "      <td>20155</td>\n",
       "      <td>Mortgage</td>\n",
       "      <td>NATIONSTAR MORTGAGE</td>\n",
       "      <td>your submission [ case number ] how do i get t...</td>\n",
       "    </tr>\n",
       "    <tr>\n",
       "      <td>20156</td>\n",
       "      <td>Mortgage</td>\n",
       "      <td>NATIONSTAR MORTGAGE</td>\n",
       "      <td>your support in this matter is appreciated in ...</td>\n",
       "    </tr>\n",
       "  </tbody>\n",
       "</table>\n",
       "<p>20157 rows × 3 columns</p>\n",
       "</div>"
      ],
      "text/plain": [
       "                           product                               company  \\\n",
       "0      Checking or savings account                   JPMORGAN CHASE  CO.   \n",
       "1      Checking or savings account  BANK OF AMERICA NATIONAL ASSOCIATION   \n",
       "2      Checking or savings account                   JPMORGAN CHASE  CO.   \n",
       "3      Checking or savings account                   SUNTRUST BANKS INC.   \n",
       "4      Checking or savings account                          E*TRADE BANK   \n",
       "...                            ...                                   ...   \n",
       "20152                     Mortgage  BANK OF AMERICA NATIONAL ASSOCIATION   \n",
       "20153                     Mortgage                  WELLS FARGO  COMPANY   \n",
       "20154                     Mortgage                   JPMORGAN CHASE  CO.   \n",
       "20155                     Mortgage                   NATIONSTAR MORTGAGE   \n",
       "20156                     Mortgage                   NATIONSTAR MORTGAGE   \n",
       "\n",
       "                                                    text  \n",
       "0      a check was cashed and remained good until aft...  \n",
       "1      a criminal used a bank of america account to s...  \n",
       "2      a merchant submitted an ach 2 12 weeks after t...  \n",
       "3      a person deposited my check in suntrust bank i...  \n",
       "4      a stop payment was requested for funds being t...  \n",
       "...                                                  ...  \n",
       "20152  you closed my case why? as a veteran with proo...  \n",
       "20153  you r group cfpb has been absolutely no help w...  \n",
       "20154  you said that you need moor information on cas...  \n",
       "20155  your submission [ case number ] how do i get t...  \n",
       "20156  your support in this matter is appreciated in ...  \n",
       "\n",
       "[20157 rows x 3 columns]"
      ]
     },
     "execution_count": 31,
     "metadata": {},
     "output_type": "execute_result"
    }
   ],
   "source": [
    "df"
   ]
  },
  {
   "cell_type": "code",
   "execution_count": 33,
   "metadata": {},
   "outputs": [
    {
     "data": {
      "text/html": [
       "<div>\n",
       "<style scoped>\n",
       "    .dataframe tbody tr th:only-of-type {\n",
       "        vertical-align: middle;\n",
       "    }\n",
       "\n",
       "    .dataframe tbody tr th {\n",
       "        vertical-align: top;\n",
       "    }\n",
       "\n",
       "    .dataframe thead th {\n",
       "        text-align: right;\n",
       "    }\n",
       "</style>\n",
       "<table border=\"1\" class=\"dataframe\">\n",
       "  <thead>\n",
       "    <tr style=\"text-align: right;\">\n",
       "      <th></th>\n",
       "      <th>product</th>\n",
       "      <th>company</th>\n",
       "      <th>text</th>\n",
       "      <th>category_id</th>\n",
       "    </tr>\n",
       "  </thead>\n",
       "  <tbody>\n",
       "    <tr>\n",
       "      <td>0</td>\n",
       "      <td>Checking or savings account</td>\n",
       "      <td>JPMORGAN CHASE  CO.</td>\n",
       "      <td>a check was cashed and remained good until aft...</td>\n",
       "      <td>0</td>\n",
       "    </tr>\n",
       "    <tr>\n",
       "      <td>1</td>\n",
       "      <td>Checking or savings account</td>\n",
       "      <td>BANK OF AMERICA NATIONAL ASSOCIATION</td>\n",
       "      <td>a criminal used a bank of america account to s...</td>\n",
       "      <td>0</td>\n",
       "    </tr>\n",
       "    <tr>\n",
       "      <td>2</td>\n",
       "      <td>Checking or savings account</td>\n",
       "      <td>JPMORGAN CHASE  CO.</td>\n",
       "      <td>a merchant submitted an ach 2 12 weeks after t...</td>\n",
       "      <td>0</td>\n",
       "    </tr>\n",
       "    <tr>\n",
       "      <td>3</td>\n",
       "      <td>Checking or savings account</td>\n",
       "      <td>SUNTRUST BANKS INC.</td>\n",
       "      <td>a person deposited my check in suntrust bank i...</td>\n",
       "      <td>0</td>\n",
       "    </tr>\n",
       "    <tr>\n",
       "      <td>4</td>\n",
       "      <td>Checking or savings account</td>\n",
       "      <td>E*TRADE BANK</td>\n",
       "      <td>a stop payment was requested for funds being t...</td>\n",
       "      <td>0</td>\n",
       "    </tr>\n",
       "  </tbody>\n",
       "</table>\n",
       "</div>"
      ],
      "text/plain": [
       "                       product                               company  \\\n",
       "0  Checking or savings account                   JPMORGAN CHASE  CO.   \n",
       "1  Checking or savings account  BANK OF AMERICA NATIONAL ASSOCIATION   \n",
       "2  Checking or savings account                   JPMORGAN CHASE  CO.   \n",
       "3  Checking or savings account                   SUNTRUST BANKS INC.   \n",
       "4  Checking or savings account                          E*TRADE BANK   \n",
       "\n",
       "                                                text  category_id  \n",
       "0  a check was cashed and remained good until aft...            0  \n",
       "1  a criminal used a bank of america account to s...            0  \n",
       "2  a merchant submitted an ach 2 12 weeks after t...            0  \n",
       "3  a person deposited my check in suntrust bank i...            0  \n",
       "4  a stop payment was requested for funds being t...            0  "
      ]
     },
     "execution_count": 33,
     "metadata": {},
     "output_type": "execute_result"
    }
   ],
   "source": [
    "corp = df\n",
    "corp = corp[pd.notnull(corp['product'])]\n",
    "corp.columns = ['product','company','text']\n",
    "corp['category_id'] = corp['product'].factorize()[0]\n",
    "category_id_corp = corp[['product', 'category_id']].drop_duplicates().sort_values('category_id')\n",
    "category_to_id = dict(category_id_corp.values)\n",
    "id_to_category = dict(category_id_corp[['category_id', 'product']].values)\n",
    "corp.head()"
   ]
  },
  {
   "cell_type": "code",
   "execution_count": 35,
   "metadata": {},
   "outputs": [
    {
     "data": {
      "text/plain": [
       "(14109, 14109)"
      ]
     },
     "execution_count": 35,
     "metadata": {},
     "output_type": "execute_result"
    }
   ],
   "source": [
    "#DO NOT CHANGE#\n",
    "from sklearn.feature_extraction.text import TfidfVectorizer\n",
    "tfidf= TfidfVectorizer(sublinear_tf=True, \n",
    "                       min_df=5, \n",
    "                       norm='l2', \n",
    "                       encoding='latin-1', \n",
    "                       ngram_range=(1, 3), \n",
    "                       stop_words='english',\n",
    "                       lowercase=True,       \n",
    "                       token_pattern=r'\\b\\w+\\b',       \n",
    "                       analyzer='word', \n",
    "                      )\n",
    "features = tfidf.fit_transform(X_train) #CORRECT TRANSFORM\n",
    "labels = y_train #CORRECT LABEL\n",
    "X_train.shape[0], labels.shape[0]"
   ]
  },
  {
   "cell_type": "code",
   "execution_count": 36,
   "metadata": {},
   "outputs": [
    {
     "name": "stdout",
     "output_type": "stream",
     "text": [
      "# 'Checking or savings account':\n",
      " . Most correlated unigrams:\n",
      "     . bank\n",
      "     . checking\n",
      "     . overdraft\n",
      " . Most correlated bigrams:\n",
      "     . savings account\n",
      "     . debit card\n",
      "     . checking account\n",
      " . Most correlated trigrams:\n",
      "     . 00 checking account\n",
      "     . account bank america\n",
      "     . checking savings account\n",
      "# 'Consumer Loan':\n",
      " . Most correlated unigrams:\n",
      "     . dealership\n",
      "     . car\n",
      "     . vehicle\n",
      " . Most correlated bigrams:\n",
      "     . main financial\n",
      "     . vehicle loan\n",
      "     . auto loan\n",
      " . Most correlated trigrams:\n",
      "     . fargo dealer services\n",
      "     . capital auto finance\n",
      "     . big picture loans\n",
      "# 'Credit card':\n",
      " . Most correlated unigrams:\n",
      "     . limit\n",
      "     . cards\n",
      "     . card\n",
      " . Most correlated bigrams:\n",
      "     . credit limit\n",
      "     . american express\n",
      "     . credit card\n",
      " . Most correlated trigrams:\n",
      "     . 00 annual fee\n",
      "     . credit card account\n",
      "     . credit card company\n",
      "# 'Debt collection':\n",
      " . Most correlated unigrams:\n",
      "     . mortgage\n",
      "     . collection\n",
      "     . debt\n",
      " . Most correlated bigrams:\n",
      "     . wells fargo\n",
      "     . credit report\n",
      "     . collection agency\n",
      " . Most correlated trigrams:\n",
      "     . belong identity theft\n",
      "     . identity theft debt\n",
      "     . debt does belong\n",
      "# 'Mortgage':\n",
      " . Most correlated unigrams:\n",
      "     . escrow\n",
      "     . loan\n",
      "     . mortgage\n",
      " . Most correlated bigrams:\n",
      "     . mortgage payment\n",
      "     . loan modification\n",
      "     . mortgage company\n",
      " . Most correlated trigrams:\n",
      "     . select portfolio servicing\n",
      "     . wells fargo home\n",
      "     . bayview loan servicing\n"
     ]
    }
   ],
   "source": [
    "from sklearn.feature_selection import chi2\n",
    "import numpy as np\n",
    "N = 3\n",
    "for Product, category_id in sorted(id_to_category.items()):\n",
    "    features_chi2 = chi2(features,labels == category_id)\n",
    "    indices = np.argsort(features_chi2[0])\n",
    "    feature_names = np.array(tfidf.get_feature_names())[indices]\n",
    "    unigrams = [v for v in feature_names if len(v.split(' ')) == 1]\n",
    "    bigrams = [v for v in feature_names if len(v.split(' ')) == 2]\n",
    "    trigrams = [v for v in feature_names if len(v.split(' ')) == 3]\n",
    "    print(\"# '{}':\".format(category_id))\n",
    "    print(\" . Most correlated unigrams:\\n     . {}\".format('\\n     . '.join(unigrams[-N:])))\n",
    "    print(\" . Most correlated bigrams:\\n     . {}\".format('\\n     . '.join(bigrams[-N:])))\n",
    "    print(\" . Most correlated trigrams:\\n     . {}\".format('\\n     . '.join(trigrams[-N:])))"
   ]
  },
  {
   "cell_type": "code",
   "execution_count": 138,
   "metadata": {},
   "outputs": [],
   "source": [
    "#Natural Language Toolkit\n",
    "import nltk\n",
    "from nltk.corpus import stopwords\n",
    "from nltk.stem.snowball import SnowballStemmer\n",
    "from nltk.corpus import wordnet as wn\n",
    "from nltk.tokenize import word_tokenize\n",
    "from nltk.stem import WordNetLemmatizer\n",
    "lemmatiser = WordNetLemmatizer()\n",
    "\n",
    "#String\n",
    "import string"
   ]
  },
  {
   "cell_type": "code",
   "execution_count": 139,
   "metadata": {},
   "outputs": [],
   "source": [
    "# Defining a module for Text Processing\n",
    "def text_process(tex):\n",
    "    \n",
    "# 1. Removal of Punctuation Marks \n",
    "    nopunct=[char for char in tex if char not in string.punctuation]\n",
    "    nopunct=''.join(nopunct)\n",
    "\n",
    "# 2. Lemmatisation \n",
    "    a=''\n",
    "    i=0\n",
    "    for i in range(len(nopunct.split())):\n",
    "        b=lemmatiser.lemmatize(nopunct.split()[i], pos=\"v\")\n",
    "        a=a+b+' '\n",
    "\n",
    "# 3. Removal of Stopwords\n",
    "    return [word for word in a.split() if word.lower() not \n",
    "            in stopwords.words('english')]"
   ]
  },
  {
   "cell_type": "code",
   "execution_count": 140,
   "metadata": {},
   "outputs": [],
   "source": [
    "vectorizer = CountVectorizer()\n",
    "bow_transformer_train = CountVectorizer().fit(X_train)\n",
    "bow_transformer_test = CountVectorizer().fit(X_test)\n",
    "\n",
    "bow_transformer=vectorizer.fit(X_train)\n",
    "text_bow_train=bow_transformer.transform(X_train) #ONLY TRAINING DATA\n",
    "text_bow_test=bow_transformer.transform(X_test) #ONLY TEST DATA"
   ]
  },
  {
   "cell_type": "code",
   "execution_count": 141,
   "metadata": {},
   "outputs": [],
   "source": [
    "# Importing necessary libraries\n",
    "from sklearn.naive_bayes import MultinomialNB\n",
    "\n",
    "# instantiating the model with Multinomial Naive Bayes..\n",
    "mnb_clf = MultinomialNB()\n",
    "\n",
    "# training the model...\n",
    "mnb_clf = mnb_clf.fit(text_bow_train, y_train)"
   ]
  },
  {
   "cell_type": "code",
   "execution_count": 1,
   "metadata": {},
   "outputs": [],
   "source": [
    "features = ['Checking account','Consumer Loan','Credit card','Debt collection','Mortgage']"
   ]
  },
  {
   "cell_type": "code",
   "execution_count": 2,
   "metadata": {
    "slideshow": {
     "slide_type": "slide"
    }
   },
   "outputs": [
    {
     "ename": "NameError",
     "evalue": "name 'y_test' is not defined",
     "output_type": "error",
     "traceback": [
      "\u001b[1;31m---------------------------------------------------------------------------\u001b[0m",
      "\u001b[1;31mNameError\u001b[0m                                 Traceback (most recent call last)",
      "\u001b[1;32m<ipython-input-2-28811377409d>\u001b[0m in \u001b[0;36m<module>\u001b[1;34m\u001b[0m\n\u001b[0;32m      8\u001b[0m \u001b[1;31m# Load the confusion matrix library and create a confusion matrix\u001b[0m\u001b[1;33m\u001b[0m\u001b[1;33m\u001b[0m\u001b[1;33m\u001b[0m\u001b[0m\n\u001b[0;32m      9\u001b[0m \u001b[1;32mfrom\u001b[0m \u001b[0msklearn\u001b[0m\u001b[1;33m.\u001b[0m\u001b[0mmetrics\u001b[0m \u001b[1;32mimport\u001b[0m \u001b[0mconfusion_matrix\u001b[0m\u001b[1;33m\u001b[0m\u001b[1;33m\u001b[0m\u001b[0m\n\u001b[1;32m---> 10\u001b[1;33m \u001b[0mconf_mat\u001b[0m \u001b[1;33m=\u001b[0m \u001b[0mconfusion_matrix\u001b[0m\u001b[1;33m(\u001b[0m\u001b[0my_test\u001b[0m\u001b[1;33m,\u001b[0m \u001b[0my_pred\u001b[0m\u001b[1;33m)\u001b[0m\u001b[1;33m\u001b[0m\u001b[1;33m\u001b[0m\u001b[0m\n\u001b[0m",
      "\u001b[1;31mNameError\u001b[0m: name 'y_test' is not defined"
     ]
    }
   ],
   "source": [
    "import seaborn as sns\n",
    "from sklearn import metrics\n",
    "from sklearn.metrics import confusion_matrix\n",
    "import matplotlib\n",
    "from matplotlib import pyplot as plt\n",
    "# Extract the features and name them target_names\n",
    "#features = vectorizer.get_feature_names()\n",
    "# Load the confusion matrix library and create a confusion matrix \n",
    "from sklearn.metrics import confusion_matrix\n",
    "conf_mat = confusion_matrix(y_test, y_pred)"
   ]
  },
  {
   "cell_type": "code",
   "execution_count": null,
   "metadata": {},
   "outputs": [],
   "source": [
    "#svm_class = LinearSVC()\n",
    "#X_train, X_test, y_train, y_test, indices_train, indices_test = train_test_split(features, labels, df.index, test_size=0.33, random_state=0)\n",
    "from sklearn import metrics\n",
    "import seaborn as sns\n",
    "%matplotlib inline\n",
    "#mnb_clf.fit(text_bow_train, y_train)\n",
    "y_pred = mnb_clf.predict(text_bow_test)\n",
    "#features = []vectorizer.get_feature_names()\n",
    "print(metrics.classification_report(y_test, y_pred, target_names=features))\n",
    "from sklearn.metrics import confusion_matrix\n",
    "conf_mat = confusion_matrix(y_test, y_pred)\n",
    "fig, ax = plt.subplots(figsize=(8,6))\n",
    "sns.heatmap(conf_mat, annot=True, fmt='d',\n",
    "            xticklabels=features, yticklabels=features)\n",
    "bottom, top = ax.get_ylim()\n",
    "ax.set_ylim(bottom + 0.5, top - 0.5)\n",
    "plt.ylabel('Actual')\n",
    "plt.xlabel('Predicted')\n",
    "plt.show()"
   ]
  },
  {
   "cell_type": "code",
   "execution_count": 151,
   "metadata": {
    "scrolled": false
   },
   "outputs": [
    {
     "data": {
      "image/png": "[encoded data removed]",
      "text/plain": [
       "<Figure size 576x432 with 2 Axes>"
      ]
     },
     "metadata": {
      "needs_background": "light"
     },
     "output_type": "display_data"
    }
   ],
   "source": [
    "from sklearn.metrics import confusion_matrix\n",
    "#conf_mat = confusion_matrix(y_test, y_pred)\n",
    "conf_sum = np.sum(conf_mat, axis=1, keepdims=True)\n",
    "cm_perc = conf_mat / (conf_sum.astype(float))\n",
    "fig, ax = plt.subplots(figsize=(8,6))\n",
    "\n",
    "sns.heatmap(cm_perc, annot=True, annot_kws={\"size\": 14}, fmt='.2f',\n",
    "            xticklabels=features, yticklabels=features)\n",
    "bottom, top = ax.get_ylim()\n",
    "ax.set_ylim(bottom + 0.5, top - 0.5)\n",
    "plt.title('Normalized Product Group Complaints Confution Matrix', fontsize = 15)\n",
    "plt.xticks(fontsize=14)\n",
    "plt.yticks(fontsize=14)\n",
    "plt.ylabel('Actual', fontsize = 14)\n",
    "plt.xlabel('Predicted', fontsize = 14)\n",
    "plt.show()\n",
    "%matplotlib inline"
   ]
  },
  {
   "cell_type": "code",
   "execution_count": 96,
   "metadata": {},
   "outputs": [
    {
     "data": {
      "text/plain": [
       "array([[7.97468354e-01, 0.00000000e+00, 1.26582278e-01, 2.84810127e-02,\n",
       "        4.74683544e-02],\n",
       "       [4.10958904e-02, 1.64383562e-01, 1.96347032e-01, 2.87671233e-01,\n",
       "        3.10502283e-01],\n",
       "       [8.05500982e-02, 2.94695481e-03, 8.00589391e-01, 9.43025540e-02,\n",
       "        2.16110020e-02],\n",
       "       [1.43626571e-02, 3.59066427e-03, 3.33931777e-02, 9.13105925e-01,\n",
       "        3.55475763e-02],\n",
       "       [1.14777618e-02, 7.17360115e-04, 1.86513630e-02, 3.73027260e-02,\n",
       "        9.31850789e-01]])"
      ]
     },
     "execution_count": 96,
     "metadata": {},
     "output_type": "execute_result"
    }
   ],
   "source": [
    "cm_perc"
   ]
  },
  {
   "cell_type": "code",
   "execution_count": 104,
   "metadata": {
    "scrolled": true,
    "slideshow": {
     "slide_type": "slide"
    }
   },
   "outputs": [
    {
     "name": "stdout",
     "output_type": "stream",
     "text": [
      "Accuracy: 85.929%\n",
      "F1 Score:  0.7292542281214203\n",
      "Precision Score:  0.8076726165965551\n",
      "Recall Score:  0.7214796041458127\n"
     ]
    }
   ],
   "source": [
    "from sklearn.metrics import f1_score, precision_score, recall_score\n",
    "print(\"Accuracy: %.3f%%\" % (result*100.0))\n",
    "print(\"F1 Score: \", f1_score(y_test, y_pred, average=\"macro\"))\n",
    "print(\"Precision Score: \", precision_score(y_test, y_pred, average=\"macro\"))\n",
    "print(\"Recall Score: \", recall_score(y_test, y_pred, average=\"macro\")) \n"
   ]
  },
  {
   "cell_type": "markdown",
   "metadata": {
    "slideshow": {
     "slide_type": "slide"
    }
   },
   "source": [
    "### Classification Report (Precision, Recall and F1–Score)"
   ]
  },
  {
   "cell_type": "code",
   "execution_count": 105,
   "metadata": {
    "slideshow": {
     "slide_type": "fragment"
    }
   },
   "outputs": [
    {
     "name": "stdout",
     "output_type": "stream",
     "text": [
      "                             precision    recall  f1-score   support\n",
      "\n",
      "Checking or savings account       0.77      0.80      0.79       632\n",
      "              Consumer Loan       0.72      0.16      0.27       219\n",
      "                Credit card       0.77      0.80      0.79      1018\n",
      "            Debt collection       0.92      0.91      0.92      2785\n",
      "                   Mortgage       0.86      0.93      0.89      1394\n",
      "\n",
      "                   accuracy                           0.86      6048\n",
      "                  macro avg       0.81      0.72      0.73      6048\n",
      "               weighted avg       0.86      0.86      0.85      6048\n",
      "\n"
     ]
    }
   ],
   "source": [
    "from sklearn.metrics import classification_report\n",
    "print(classification_report(y_test,y_pred))"
   ]
  },
  {
   "cell_type": "code",
   "execution_count": 127,
   "metadata": {},
   "outputs": [
    {
     "ename": "AttributeError",
     "evalue": "'MultinomialNB' object has no attribute 'coefs_'",
     "output_type": "error",
     "traceback": [
      "\u001b[1;31m---------------------------------------------------------------------------\u001b[0m",
      "\u001b[1;31mAttributeError\u001b[0m                            Traceback (most recent call last)",
      "\u001b[1;32m<ipython-input-127-c41e6c757413>\u001b[0m in \u001b[0;36m<module>\u001b[1;34m\u001b[0m\n\u001b[0;32m      2\u001b[0m \u001b[0mfig\u001b[0m\u001b[1;33m,\u001b[0m \u001b[0maxes\u001b[0m \u001b[1;33m=\u001b[0m \u001b[0mplt\u001b[0m\u001b[1;33m.\u001b[0m\u001b[0msubplots\u001b[0m\u001b[1;33m(\u001b[0m\u001b[1;36m4\u001b[0m\u001b[1;33m,\u001b[0m \u001b[1;36m4\u001b[0m\u001b[1;33m)\u001b[0m\u001b[1;33m\u001b[0m\u001b[1;33m\u001b[0m\u001b[0m\n\u001b[0;32m      3\u001b[0m \u001b[1;31m# use global min / max to ensure all weights are shown on the same scale\u001b[0m\u001b[1;33m\u001b[0m\u001b[1;33m\u001b[0m\u001b[1;33m\u001b[0m\u001b[0m\n\u001b[1;32m----> 4\u001b[1;33m \u001b[0mvmin\u001b[0m\u001b[1;33m,\u001b[0m \u001b[0mvmax\u001b[0m \u001b[1;33m=\u001b[0m \u001b[0mmnb_clf\u001b[0m\u001b[1;33m.\u001b[0m\u001b[0mcoefs_\u001b[0m\u001b[1;33m[\u001b[0m\u001b[1;36m0\u001b[0m\u001b[1;33m]\u001b[0m\u001b[1;33m.\u001b[0m\u001b[0mmin\u001b[0m\u001b[1;33m(\u001b[0m\u001b[1;33m)\u001b[0m\u001b[1;33m,\u001b[0m \u001b[0mmnb_clf\u001b[0m\u001b[1;33m.\u001b[0m\u001b[0mcoefs_\u001b[0m\u001b[1;33m[\u001b[0m\u001b[1;36m0\u001b[0m\u001b[1;33m]\u001b[0m\u001b[1;33m.\u001b[0m\u001b[0mmax\u001b[0m\u001b[1;33m(\u001b[0m\u001b[1;33m)\u001b[0m\u001b[1;33m\u001b[0m\u001b[1;33m\u001b[0m\u001b[0m\n\u001b[0m\u001b[0;32m      5\u001b[0m \u001b[1;32mfor\u001b[0m \u001b[0mcoef\u001b[0m\u001b[1;33m,\u001b[0m \u001b[0max\u001b[0m \u001b[1;32min\u001b[0m \u001b[0mzip\u001b[0m\u001b[1;33m(\u001b[0m\u001b[0mmnb_clf\u001b[0m\u001b[1;33m.\u001b[0m\u001b[0mcoefs_\u001b[0m\u001b[1;33m[\u001b[0m\u001b[1;36m0\u001b[0m\u001b[1;33m]\u001b[0m\u001b[1;33m.\u001b[0m\u001b[0mT\u001b[0m\u001b[1;33m,\u001b[0m \u001b[0maxes\u001b[0m\u001b[1;33m.\u001b[0m\u001b[0mravel\u001b[0m\u001b[1;33m(\u001b[0m\u001b[1;33m)\u001b[0m\u001b[1;33m)\u001b[0m\u001b[1;33m:\u001b[0m\u001b[1;33m\u001b[0m\u001b[1;33m\u001b[0m\u001b[0m\n\u001b[0;32m      6\u001b[0m     ax.matshow(coef.reshape(mnb_clf.coefs), cmap=plt.cm.gray, vmin=.5 * vmin,\n",
      "\u001b[1;31mAttributeError\u001b[0m: 'MultinomialNB' object has no attribute 'coefs_'"
     ]
    },
    {
     "data": {
      "image/png": "[encoded data removed]",
      "text/plain": [
       "<Figure size 432x288 with 16 Axes>"
      ]
     },
     "metadata": {
      "needs_background": "light"
     },
     "output_type": "display_data"
    }
   ],
   "source": [
    "# Plot \n",
    "fig, axes = plt.subplots(4, 4)\n",
    "# use global min / max to ensure all weights are shown on the same scale\n",
    "vmin, vmax = mnb_clf.coefs_[0].min(), mnb_clf.coefs_[0].max()\n",
    "for coef, ax in zip(mnb_clf.coefs_[0].T, axes.ravel()):\n",
    "    ax.matshow(coef.reshape(mnb_clf.coefs), cmap=plt.cm.gray, vmin=.5 * vmin,\n",
    "               vmax=.5 * vmax)\n",
    "    ax.set_xticks(())\n",
    "    ax.set_yticks(())\n",
    "\n",
    "plt.show()"
   ]
  },
  {
   "cell_type": "code",
   "execution_count": null,
   "metadata": {},
   "outputs": [],
   "source": []
  }
 ],
 "metadata": {
  "celltoolbar": "Slideshow",
  "kernelspec": {
   "display_name": "Python 3",
   "language": "python",
   "name": "python3"
  },
  "language_info": {
   "codemirror_mode": {
    "name": "ipython",
    "version": 3
   },
   "file_extension": ".py",
   "mimetype": "text/x-python",
   "name": "python",
   "nbconvert_exporter": "python",
   "pygments_lexer": "ipython3",
   "version": "3.7.4"
  }
 },
 "nbformat": 4,
 "nbformat_minor": 2
}
