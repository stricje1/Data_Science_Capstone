{
 "cells": [
  {
   "cell_type": "markdown",
   "metadata": {},
   "source": [
    "#Logistic Regression\n",
    "This is an example of performing logistic regression in Python with the scikit-learn module. In this example, we perform many useful python functions beyond what we need for a simple model. This is done partially to explore some more advanced modeling, array maniputation, evaluation, and so on. We will also use several external modules importing data, formatiing data, manipulating data,modeling and graphical exploration.\n"
   ]
  },
  {
   "cell_type": "markdown",
   "metadata": {},
   "source": [
    "#Dataset\n",
    "The dataset I chose for this example in Longitudinal Low Birth Weight Study (CLSLOWBWT.DAT). Hosmer and Lemeshow (2000) Applied Logistic Regression:\n",
    " Second Edition.  These data are copyrighted by John Wiley &\n",
    " Sons Inc. and must be acknowledged and used accordingly.\n",
    "\n",
    "\n"
   ]
  },
  {
   "cell_type": "markdown",
   "metadata": {},
   "source": [
    "#List of Variables:\n",
    "\n",
    "Variable\tDescription\t\tCodes/Values\t\tName\n",
    "______________________________________________________________________\n",
    "\n",
    "1\tIdentification Code\t\tID Number\t\tID\n",
    "\n",
    "2\tBirth Number\t\t\t1-4\t\t\tBIRTH\n",
    "\n",
    "3\tSmoking Status \t\t\t0 = No, 1 = Yes\t\tSMOKE\n",
    "\tDuring Pregnancy\n",
    "\n",
    "4\tRace\t\t\t\t1 = White, 2 = Black \tRACE\n",
    "\t\t\t\t\t3  = Other\n",
    "\n",
    "5\tAge of Mother\t\t\tYears\t\t\tAGE\n",
    "\n",
    "6\tWeight of Mother at \t\tPounds\t\t\tLWT\n",
    "\tLast Menstrual Period\n",
    "\n",
    "7\tBirth Weight\t\t\tGrams\t\t\tBWT\n",
    "\n",
    "8\tLow Birth Weight\t\t1 = BWT <=2500g,\tLOW\n",
    "\t\t\t\t\t0 = BWT >2500g\n",
    "________________________________________________________________________"
   ]
  },
  {
   "cell_type": "markdown",
   "metadata": {},
   "source": [
    "#Problem Statement\n",
    "In this example, we want to predict Low Birth Weight using the reamining dateset variables. Low Birth Weight, the dependent variable, 1 = BWT <=2500g and 0 = BWT >2500g."
   ]
  },
  {
   "cell_type": "markdown",
   "metadata": {},
   "source": [
    "#Import Modules"
   ]
  },
  {
   "cell_type": "code",
   "execution_count": 1,
   "metadata": {
    "collapsed": true
   },
   "outputs": [],
   "source": [
    "import numpy as np\n",
    "import pandas as pd\n",
    "import statsmodels.api as sm\n",
    "import matplotlib.pyplot as plt\n",
    "from patsy import dmatrices\n",
    "from sklearn.linear_model import LogisticRegression\n",
    "from sklearn.cross_validation import train_test_split\n",
    "from sklearn import metrics\n",
    "from sklearn.cross_validation import cross_val_score"
   ]
  },
  {
   "cell_type": "markdown",
   "metadata": {},
   "source": [
    "#Data Pre-Processing "
   ]
  },
  {
   "cell_type": "code",
   "execution_count": 120,
   "metadata": {
    "collapsed": true
   },
   "outputs": [],
   "source": [
    "# load dataset\n",
    "dta = pd.read_csv(\"C:\\Users\\Strickland\\Documents\\Python Scripts\\CLSLOWBWT.csv\")"
   ]
  },
  {
   "cell_type": "markdown",
   "metadata": {},
   "source": [
    "#Data Exploration"
   ]
  },
  {
   "cell_type": "code",
   "execution_count": 121,
   "metadata": {
    "collapsed": false
   },
   "outputs": [
    {
     "data": {
      "text/html": [
       "<div>\n",
       "<table border=\"1\" class=\"dataframe\">\n",
       "  <thead>\n",
       "    <tr style=\"text-align: right;\">\n",
       "      <th></th>\n",
       "      <th>ID</th>\n",
       "      <th>BIRTH</th>\n",
       "      <th>SMOKE</th>\n",
       "      <th>RACE</th>\n",
       "      <th>AGE</th>\n",
       "      <th>LWT</th>\n",
       "      <th>BWT</th>\n",
       "    </tr>\n",
       "    <tr>\n",
       "      <th>LOW</th>\n",
       "      <th></th>\n",
       "      <th></th>\n",
       "      <th></th>\n",
       "      <th></th>\n",
       "      <th></th>\n",
       "      <th></th>\n",
       "      <th></th>\n",
       "    </tr>\n",
       "  </thead>\n",
       "  <tbody>\n",
       "    <tr>\n",
       "      <th>0</th>\n",
       "      <td>92.875371</td>\n",
       "      <td>1.836795</td>\n",
       "      <td>0.338279</td>\n",
       "      <td>1.976261</td>\n",
       "      <td>26.163205</td>\n",
       "      <td>144.741840</td>\n",
       "      <td>3204.059347</td>\n",
       "    </tr>\n",
       "    <tr>\n",
       "      <th>1</th>\n",
       "      <td>95.092715</td>\n",
       "      <td>1.953642</td>\n",
       "      <td>0.536424</td>\n",
       "      <td>1.576159</td>\n",
       "      <td>27.059603</td>\n",
       "      <td>138.304636</td>\n",
       "      <td>2033.867550</td>\n",
       "    </tr>\n",
       "  </tbody>\n",
       "</table>\n",
       "</div>"
      ],
      "text/plain": [
       "            ID     BIRTH     SMOKE      RACE        AGE         LWT  \\\n",
       "LOW                                                                   \n",
       "0    92.875371  1.836795  0.338279  1.976261  26.163205  144.741840   \n",
       "1    95.092715  1.953642  0.536424  1.576159  27.059603  138.304636   \n",
       "\n",
       "             BWT  \n",
       "LOW               \n",
       "0    3204.059347  \n",
       "1    2033.867550  "
      ]
     },
     "execution_count": 121,
     "metadata": {},
     "output_type": "execute_result"
    }
   ],
   "source": [
    "dta.groupby('LOW').mean()"
   ]
  },
  {
   "cell_type": "markdown",
   "metadata": {},
   "source": [
    "We can see that on average, women who have children with a low birth weight are more likely to be smokers than nonsmokers. This makes sense based on scientific studies. Let's take another look at the Birth Number variable."
   ]
  },
  {
   "cell_type": "code",
   "execution_count": 8,
   "metadata": {
    "collapsed": false
   },
   "outputs": [
    {
     "data": {
      "text/html": [
       "<div>\n",
       "<table border=\"1\" class=\"dataframe\">\n",
       "  <thead>\n",
       "    <tr style=\"text-align: right;\">\n",
       "      <th></th>\n",
       "      <th>ID</th>\n",
       "      <th>SMOKE</th>\n",
       "      <th>RACE</th>\n",
       "      <th>AGE</th>\n",
       "      <th>LWT</th>\n",
       "      <th>BWT</th>\n",
       "      <th>LOW</th>\n",
       "    </tr>\n",
       "    <tr>\n",
       "      <th>BIRTH</th>\n",
       "      <th></th>\n",
       "      <th></th>\n",
       "      <th></th>\n",
       "      <th></th>\n",
       "      <th></th>\n",
       "      <th></th>\n",
       "      <th></th>\n",
       "    </tr>\n",
       "  </thead>\n",
       "  <tbody>\n",
       "    <tr>\n",
       "      <th>1</th>\n",
       "      <td>94.500000</td>\n",
       "      <td>0.393617</td>\n",
       "      <td>1.851064</td>\n",
       "      <td>22.819149</td>\n",
       "      <td>129.851064</td>\n",
       "      <td>2848.159574</td>\n",
       "      <td>0.281915</td>\n",
       "    </tr>\n",
       "    <tr>\n",
       "      <th>2</th>\n",
       "      <td>94.500000</td>\n",
       "      <td>0.393617</td>\n",
       "      <td>1.851064</td>\n",
       "      <td>26.930851</td>\n",
       "      <td>150.638298</td>\n",
       "      <td>2857.367021</td>\n",
       "      <td>0.303191</td>\n",
       "    </tr>\n",
       "    <tr>\n",
       "      <th>3</th>\n",
       "      <td>89.091837</td>\n",
       "      <td>0.408163</td>\n",
       "      <td>1.857143</td>\n",
       "      <td>31.153061</td>\n",
       "      <td>150.520408</td>\n",
       "      <td>2838.153061</td>\n",
       "      <td>0.367347</td>\n",
       "    </tr>\n",
       "    <tr>\n",
       "      <th>4</th>\n",
       "      <td>99.642857</td>\n",
       "      <td>0.500000</td>\n",
       "      <td>1.857143</td>\n",
       "      <td>35.500000</td>\n",
       "      <td>155.642857</td>\n",
       "      <td>2578.857143</td>\n",
       "      <td>0.357143</td>\n",
       "    </tr>\n",
       "  </tbody>\n",
       "</table>\n",
       "</div>"
      ],
      "text/plain": [
       "              ID     SMOKE      RACE        AGE         LWT          BWT  \\\n",
       "BIRTH                                                                      \n",
       "1      94.500000  0.393617  1.851064  22.819149  129.851064  2848.159574   \n",
       "2      94.500000  0.393617  1.851064  26.930851  150.638298  2857.367021   \n",
       "3      89.091837  0.408163  1.857143  31.153061  150.520408  2838.153061   \n",
       "4      99.642857  0.500000  1.857143  35.500000  155.642857  2578.857143   \n",
       "\n",
       "            LOW  \n",
       "BIRTH            \n",
       "1      0.281915  \n",
       "2      0.303191  \n",
       "3      0.367347  \n",
       "4      0.357143  "
      ]
     },
     "execution_count": 8,
     "metadata": {},
     "output_type": "execute_result"
    }
   ],
   "source": [
    "dta.groupby('BIRTH').mean()"
   ]
  },
  {
   "cell_type": "markdown",
   "metadata": {},
   "source": [
    "Low Birth Weight trends upward with more births."
   ]
  },
  {
   "cell_type": "markdown",
   "metadata": {},
   "source": [
    "#Data Visualization"
   ]
  },
  {
   "cell_type": "code",
   "execution_count": 9,
   "metadata": {
    "collapsed": true
   },
   "outputs": [],
   "source": [
    "# show plots in the notebook\n",
    "%matplotlib inline"
   ]
  },
  {
   "cell_type": "code",
   "execution_count": 14,
   "metadata": {
    "collapsed": false
   },
   "outputs": [
    {
     "data": {
      "text/plain": [
       "<matplotlib.text.Text at 0x19843978>"
      ]
     },
     "execution_count": 14,
     "metadata": {},
     "output_type": "execute_result"
    },
    {
     "data": {
      "image/png": "[encoded data removed]",
      "text/plain": [
       "<matplotlib.figure.Figure at 0x191470b8>"
      ]
     },
     "metadata": {},
     "output_type": "display_data"
    }
   ],
   "source": [
    "# histogram of birth number\n",
    "dta.BIRTH.hist()\n",
    "plt.title('Histogram of Low Birth Weight')\n",
    "plt.xlabel('Birth Number')\n",
    "plt.ylabel('Frequency')\n"
   ]
  },
  {
   "cell_type": "code",
   "execution_count": 15,
   "metadata": {
    "collapsed": false
   },
   "outputs": [
    {
     "data": {
      "text/plain": [
       "<matplotlib.text.Text at 0x199d47b8>"
      ]
     },
     "execution_count": 15,
     "metadata": {},
     "output_type": "execute_result"
    },
    {
     "data": {
      "image/png": "[encoded data removed]",
      "text/plain": [
       "<matplotlib.figure.Figure at 0x19159fd0>"
      ]
     },
     "metadata": {},
     "output_type": "display_data"
    }
   ],
   "source": [
    "# histogram of age of mother\n",
    "dta.AGE.hist()\n",
    "plt.title('Histogram of Age of Mother')\n",
    "plt.xlabel('Age')\n",
    "plt.ylabel('Frequency')"
   ]
  },
  {
   "cell_type": "markdown",
   "metadata": {},
   "source": [
    "Let's take a look at the distribution of smokers for those having children with low birth weights versus those who do not."
   ]
  },
  {
   "cell_type": "code",
   "execution_count": 16,
   "metadata": {
    "collapsed": false
   },
   "outputs": [
    {
     "data": {
      "text/plain": [
       "<matplotlib.text.Text at 0x19b084e0>"
      ]
     },
     "execution_count": 16,
     "metadata": {},
     "output_type": "execute_result"
    },
    {
     "data": {
      "image/png": "[encoded data removed]",
      "text/plain": [
       "<matplotlib.figure.Figure at 0x19b81160>"
      ]
     },
     "metadata": {},
     "output_type": "display_data"
    }
   ],
   "source": [
    "# barplot of low birth weights grouped by smoker status (True or False)\n",
    "pd.crosstab(dta.SMOKE, dta.LOW.astype(bool)).plot(kind='bar')\n",
    "plt.title('Somker Distribution by Low Birth Weight')\n",
    "plt.xlabel('Smoker')\n",
    "plt.ylabel('Frequency')\n"
   ]
  },
  {
   "cell_type": "markdown",
   "metadata": {},
   "source": [
    "Now let's use a stacked barplot to look at the percentage of women having children with low birth weights by age."
   ]
  },
  {
   "cell_type": "code",
   "execution_count": 17,
   "metadata": {
    "collapsed": false
   },
   "outputs": [
    {
     "data": {
      "text/plain": [
       "<matplotlib.text.Text at 0x19ff5780>"
      ]
     },
     "execution_count": 17,
     "metadata": {},
     "output_type": "execute_result"
    },
    {
     "data": {
      "image/png": "[encoded data removed]",
      "text/plain": [
       "<matplotlib.figure.Figure at 0x19d8b908>"
      ]
     },
     "metadata": {},
     "output_type": "display_data"
    }
   ],
   "source": [
    "low_age = pd.crosstab(dta.AGE, dta.LOW.astype(bool))\n",
    "low_age.div(low_age.sum(1).astype(float), axis=0).plot(kind='bar', stacked=True)\n",
    "plt.title('Low Birth Weight Percentage by Age of Mother')\n",
    "plt.xlabel('Age of Mother')\n",
    "plt.ylabel('Percentage')\n"
   ]
  },
  {
   "cell_type": "markdown",
   "metadata": {},
   "source": [
    "#Prepare Data for Logistic Regression¶\n",
    "To prepare the data, we want to add an intercept column as well as dummy variables for Age of Mother and Weight of Mother at Last Menstrual Period, since we are treating them as categorial variables. The dmatrices function from the patsy module can do that using formula language."
   ]
  },
  {
   "cell_type": "markdown",
   "metadata": {},
   "source": [
    "The column names for the dummy variables are messy, so let's rename those."
   ]
  },
  {
   "cell_type": "code",
   "execution_count": 193,
   "metadata": {
    "collapsed": false
   },
   "outputs": [
    {
     "name": "stdout",
     "output_type": "stream",
     "text": [
      "Index([u'Intercept', u'ID', u'BIRTH', u'SMOKE', u'RACE', u'AGE', u'LWT'], dtype='object')\n"
     ]
    }
   ],
   "source": [
    "# create dataframes with an intercept column and dummy variables for\n",
    "y, X = dmatrices('LOW ~ ID + BIRTH + SMOKE + RACE + AGE + LWT',\n",
    "                  dta, return_type=\"dataframe\")\n",
    "print X.columns"
   ]
  },
  {
   "cell_type": "markdown",
   "metadata": {},
   "source": [
    "We now want to convert the numeric (interval) variable AGE to a categorical variable with 4 classes."
   ]
  },
  {
   "cell_type": "markdown",
   "metadata": {},
   "source": [
    "We also need to flatten y into a 1-D array, so that scikit-learn will properly understand it as the response variable."
   ]
  },
  {
   "cell_type": "code",
   "execution_count": 194,
   "metadata": {
    "collapsed": true
   },
   "outputs": [],
   "source": [
    "# flatten y into a 1-D array\n",
    "y = np.ravel(y)"
   ]
  },
  {
   "cell_type": "markdown",
   "metadata": {},
   "source": [
    "#First Logistic Regression¶\n",
    "Let's go ahead and run logistic regression on the entire data set, and see how accurate it is.\n"
   ]
  },
  {
   "cell_type": "code",
   "execution_count": 195,
   "metadata": {
    "collapsed": false
   },
   "outputs": [
    {
     "data": {
      "text/plain": [
       "0.70696721311475408"
      ]
     },
     "execution_count": 195,
     "metadata": {},
     "output_type": "execute_result"
    }
   ],
   "source": [
    "# instantiate a logistic regression model, and fit with X and y\n",
    "model = LogisticRegression()\n",
    "model = model.fit(X, y)\n",
    "\n",
    "# check the accuracy on the training set\n",
    "model.score(X, y)"
   ]
  },
  {
   "cell_type": "markdown",
   "metadata": {},
   "source": [
    "70.7% accuracy seems good, but what's the null error rate?"
   ]
  },
  {
   "cell_type": "code",
   "execution_count": 149,
   "metadata": {
    "collapsed": false
   },
   "outputs": [
    {
     "data": {
      "text/plain": [
       "0.3094262295081967"
      ]
     },
     "execution_count": 149,
     "metadata": {},
     "output_type": "execute_result"
    }
   ],
   "source": [
    "# what percentage had low birth weights?\n",
    "y.mean()"
   ]
  },
  {
   "cell_type": "markdown",
   "metadata": {},
   "source": [
    "Only 31% of the women had low birth rate children, which means that you could obtain 69% accuracy by always predicting \"no\". So we're doing better than the null error rate, but not by much.\n",
    "Let's examine the coefficients to see what we learn."
   ]
  },
  {
   "cell_type": "code",
   "execution_count": 150,
   "metadata": {
    "collapsed": false
   },
   "outputs": [
    {
     "data": {
      "text/html": [
       "<div>\n",
       "<table border=\"1\" class=\"dataframe\">\n",
       "  <thead>\n",
       "    <tr style=\"text-align: right;\">\n",
       "      <th></th>\n",
       "      <th>0</th>\n",
       "      <th>1</th>\n",
       "    </tr>\n",
       "  </thead>\n",
       "  <tbody>\n",
       "    <tr>\n",
       "      <th>0</th>\n",
       "      <td>Intercept</td>\n",
       "      <td>[0.0336484036311]</td>\n",
       "    </tr>\n",
       "    <tr>\n",
       "      <th>1</th>\n",
       "      <td>ID</td>\n",
       "      <td>[0.00231314008486]</td>\n",
       "    </tr>\n",
       "    <tr>\n",
       "      <th>2</th>\n",
       "      <td>BIRTH</td>\n",
       "      <td>[0.185995251393]</td>\n",
       "    </tr>\n",
       "    <tr>\n",
       "      <th>3</th>\n",
       "      <td>SMOKE</td>\n",
       "      <td>[0.546655639398]</td>\n",
       "    </tr>\n",
       "    <tr>\n",
       "      <th>4</th>\n",
       "      <td>RACE</td>\n",
       "      <td>[-0.413795537922]</td>\n",
       "    </tr>\n",
       "    <tr>\n",
       "      <th>5</th>\n",
       "      <td>AGE</td>\n",
       "      <td>[0.0257483072665]</td>\n",
       "    </tr>\n",
       "    <tr>\n",
       "      <th>6</th>\n",
       "      <td>LWT</td>\n",
       "      <td>[-0.0115073134929]</td>\n",
       "    </tr>\n",
       "  </tbody>\n",
       "</table>\n",
       "</div>"
      ],
      "text/plain": [
       "           0                   1\n",
       "0  Intercept   [0.0336484036311]\n",
       "1         ID  [0.00231314008486]\n",
       "2      BIRTH    [0.185995251393]\n",
       "3      SMOKE    [0.546655639398]\n",
       "4       RACE   [-0.413795537922]\n",
       "5        AGE   [0.0257483072665]\n",
       "6        LWT  [-0.0115073134929]"
      ]
     },
     "execution_count": 150,
     "metadata": {},
     "output_type": "execute_result"
    }
   ],
   "source": [
    "# examine the coefficients\n",
    "pd.DataFrame(zip(X.columns, np.transpose(model.coef_)))"
   ]
  },
  {
   "cell_type": "markdown",
   "metadata": {},
   "source": [
    "#Coverting Variables & Merging Dataframes\n",
    "Now, we want to take the varible AGE and convert it to a categorical variable, to see if we can improve the model. We will do this by creating two data frames deom our original data. we will then merge the two data frames, so both need to contain the ID variable. One data from will have the converted categorical variable age_group, and the other will have the dependent variable and the other indepedent variables."
   ]
  },
  {
   "cell_type": "code",
   "execution_count": 205,
   "metadata": {
    "collapsed": false
   },
   "outputs": [
    {
     "data": {
      "text/html": [
       "<div>\n",
       "<table border=\"1\" class=\"dataframe\">\n",
       "  <thead>\n",
       "    <tr style=\"text-align: right;\">\n",
       "      <th></th>\n",
       "      <th>ID</th>\n",
       "      <th>AGE</th>\n",
       "      <th>age_groups</th>\n",
       "    </tr>\n",
       "  </thead>\n",
       "  <tbody>\n",
       "    <tr>\n",
       "      <th>0</th>\n",
       "      <td>1</td>\n",
       "      <td>28</td>\n",
       "      <td>25-34</td>\n",
       "    </tr>\n",
       "    <tr>\n",
       "      <th>1</th>\n",
       "      <td>1</td>\n",
       "      <td>33</td>\n",
       "      <td>25-34</td>\n",
       "    </tr>\n",
       "    <tr>\n",
       "      <th>2</th>\n",
       "      <td>2</td>\n",
       "      <td>29</td>\n",
       "      <td>25-34</td>\n",
       "    </tr>\n",
       "    <tr>\n",
       "      <th>3</th>\n",
       "      <td>2</td>\n",
       "      <td>34</td>\n",
       "      <td>25-34</td>\n",
       "    </tr>\n",
       "    <tr>\n",
       "      <th>4</th>\n",
       "      <td>2</td>\n",
       "      <td>37</td>\n",
       "      <td>35-44</td>\n",
       "    </tr>\n",
       "  </tbody>\n",
       "</table>\n",
       "</div>"
      ],
      "text/plain": [
       "   ID  AGE age_groups\n",
       "0   1   28      25-34\n",
       "1   1   33      25-34\n",
       "2   2   29      25-34\n",
       "3   2   34      25-34\n",
       "4   2   37      35-44"
      ]
     },
     "execution_count": 205,
     "metadata": {},
     "output_type": "execute_result"
    }
   ],
   "source": [
    "df1 = pd.DataFrame(dta, columns=['ID','AGE'])\n",
    "df2 = pd.DataFrame(dta, columns=['ID', 'BIRTH', 'SMOKE', 'RACE', 'LWT', 'LOW'])\n",
    "bins = [15, 25, 35, 45, 55]\n",
    "group_names = ['15-24', '25-34', '35-44', '45-55']\n",
    "age_groups = pd.cut(df1['AGE'], bins, labels=group_names)\n",
    "df1['age_groups'] = pd.cut(df1['AGE'], bins, labels=group_names)\n",
    "categories\n",
    "df1.head(5)"
   ]
  },
  {
   "cell_type": "markdown",
   "metadata": {},
   "source": [
    "We now merge the two data frames."
   ]
  },
  {
   "cell_type": "code",
   "execution_count": 215,
   "metadata": {
    "collapsed": false
   },
   "outputs": [
    {
     "data": {
      "text/html": [
       "<div>\n",
       "<table border=\"1\" class=\"dataframe\">\n",
       "  <thead>\n",
       "    <tr style=\"text-align: right;\">\n",
       "      <th></th>\n",
       "      <th>ID</th>\n",
       "      <th>BIRTH</th>\n",
       "      <th>SMOKE</th>\n",
       "      <th>RACE</th>\n",
       "      <th>LWT</th>\n",
       "      <th>LOW</th>\n",
       "      <th>AGE</th>\n",
       "      <th>age_groups</th>\n",
       "    </tr>\n",
       "  </thead>\n",
       "  <tbody>\n",
       "    <tr>\n",
       "      <th>0</th>\n",
       "      <td>1</td>\n",
       "      <td>1</td>\n",
       "      <td>1</td>\n",
       "      <td>3</td>\n",
       "      <td>120</td>\n",
       "      <td>0</td>\n",
       "      <td>28</td>\n",
       "      <td>25-34</td>\n",
       "    </tr>\n",
       "    <tr>\n",
       "      <th>1</th>\n",
       "      <td>1</td>\n",
       "      <td>1</td>\n",
       "      <td>1</td>\n",
       "      <td>3</td>\n",
       "      <td>120</td>\n",
       "      <td>0</td>\n",
       "      <td>33</td>\n",
       "      <td>25-34</td>\n",
       "    </tr>\n",
       "    <tr>\n",
       "      <th>2</th>\n",
       "      <td>1</td>\n",
       "      <td>2</td>\n",
       "      <td>1</td>\n",
       "      <td>3</td>\n",
       "      <td>141</td>\n",
       "      <td>0</td>\n",
       "      <td>28</td>\n",
       "      <td>25-34</td>\n",
       "    </tr>\n",
       "    <tr>\n",
       "      <th>3</th>\n",
       "      <td>1</td>\n",
       "      <td>2</td>\n",
       "      <td>1</td>\n",
       "      <td>3</td>\n",
       "      <td>141</td>\n",
       "      <td>0</td>\n",
       "      <td>33</td>\n",
       "      <td>25-34</td>\n",
       "    </tr>\n",
       "    <tr>\n",
       "      <th>4</th>\n",
       "      <td>2</td>\n",
       "      <td>1</td>\n",
       "      <td>0</td>\n",
       "      <td>1</td>\n",
       "      <td>130</td>\n",
       "      <td>0</td>\n",
       "      <td>29</td>\n",
       "      <td>25-34</td>\n",
       "    </tr>\n",
       "  </tbody>\n",
       "</table>\n",
       "</div>"
      ],
      "text/plain": [
       "   ID  BIRTH  SMOKE  RACE  LWT  LOW  AGE age_groups\n",
       "0   1      1      1     3  120    0   28      25-34\n",
       "1   1      1      1     3  120    0   33      25-34\n",
       "2   1      2      1     3  141    0   28      25-34\n",
       "3   1      2      1     3  141    0   33      25-34\n",
       "4   2      1      0     1  130    0   29      25-34"
      ]
     },
     "execution_count": 215,
     "metadata": {},
     "output_type": "execute_result"
    }
   ],
   "source": [
    "left = df2\n",
    "right = df1\n",
    "result = pd.merge(left, right, on='ID')\n",
    "result.head(5)"
   ]
  },
  {
   "cell_type": "markdown",
   "metadata": {},
   "source": [
    "#Second Logistic Regression\n",
    "We are now ready to build and evaluate our second logistic regression model, youing the merged data frames. "
   ]
  },
  {
   "cell_type": "code",
   "execution_count": 208,
   "metadata": {
    "collapsed": false
   },
   "outputs": [
    {
     "name": "stdout",
     "output_type": "stream",
     "text": [
      "Index([u'Intercept', u'age_groups[T.25-34]', u'age_groups[T.35-44]',\n",
      "       u'age_groups[T.45-55]', u'BIRTH', u'SMOKE', u'RACE', u'LWT'],\n",
      "      dtype='object')\n"
     ]
    }
   ],
   "source": [
    "y, Z = dmatrices('LOW ~ BIRTH + SMOKE + RACE + age_groups + LWT', result, return_type=\"dataframe\")\n",
    "print Z.columns"
   ]
  },
  {
   "cell_type": "markdown",
   "metadata": {},
   "source": [
    "Since we change the size of y when we converted AGE and merged, we also need to flatten y again into a 1-D array, so that scikit-learn will properly understand it as the response variable"
   ]
  },
  {
   "cell_type": "code",
   "execution_count": 209,
   "metadata": {
    "collapsed": false
   },
   "outputs": [],
   "source": [
    "# flatten y into a 1-D array\n",
    "y = np.ravel(y)"
   ]
  },
  {
   "cell_type": "markdown",
   "metadata": {},
   "source": [
    "Before we perform the logistic regression, we want to check the matrix we just formed to ensure it is consistent with our intent."
   ]
  },
  {
   "cell_type": "code",
   "execution_count": 210,
   "metadata": {
    "collapsed": false
   },
   "outputs": [
    {
     "data": {
      "text/html": [
       "<div>\n",
       "<table border=\"1\" class=\"dataframe\">\n",
       "  <thead>\n",
       "    <tr style=\"text-align: right;\">\n",
       "      <th></th>\n",
       "      <th>Intercept</th>\n",
       "      <th>age_groups[T.25-34]</th>\n",
       "      <th>age_groups[T.35-44]</th>\n",
       "      <th>age_groups[T.45-55]</th>\n",
       "      <th>BIRTH</th>\n",
       "      <th>SMOKE</th>\n",
       "      <th>RACE</th>\n",
       "      <th>LWT</th>\n",
       "    </tr>\n",
       "  </thead>\n",
       "  <tbody>\n",
       "    <tr>\n",
       "      <th>0</th>\n",
       "      <td>1</td>\n",
       "      <td>1</td>\n",
       "      <td>0</td>\n",
       "      <td>0</td>\n",
       "      <td>1</td>\n",
       "      <td>1</td>\n",
       "      <td>3</td>\n",
       "      <td>120</td>\n",
       "    </tr>\n",
       "    <tr>\n",
       "      <th>1</th>\n",
       "      <td>1</td>\n",
       "      <td>1</td>\n",
       "      <td>0</td>\n",
       "      <td>0</td>\n",
       "      <td>1</td>\n",
       "      <td>1</td>\n",
       "      <td>3</td>\n",
       "      <td>120</td>\n",
       "    </tr>\n",
       "    <tr>\n",
       "      <th>2</th>\n",
       "      <td>1</td>\n",
       "      <td>1</td>\n",
       "      <td>0</td>\n",
       "      <td>0</td>\n",
       "      <td>2</td>\n",
       "      <td>1</td>\n",
       "      <td>3</td>\n",
       "      <td>141</td>\n",
       "    </tr>\n",
       "    <tr>\n",
       "      <th>3</th>\n",
       "      <td>1</td>\n",
       "      <td>1</td>\n",
       "      <td>0</td>\n",
       "      <td>0</td>\n",
       "      <td>2</td>\n",
       "      <td>1</td>\n",
       "      <td>3</td>\n",
       "      <td>141</td>\n",
       "    </tr>\n",
       "    <tr>\n",
       "      <th>4</th>\n",
       "      <td>1</td>\n",
       "      <td>1</td>\n",
       "      <td>0</td>\n",
       "      <td>0</td>\n",
       "      <td>1</td>\n",
       "      <td>0</td>\n",
       "      <td>1</td>\n",
       "      <td>130</td>\n",
       "    </tr>\n",
       "  </tbody>\n",
       "</table>\n",
       "</div>"
      ],
      "text/plain": [
       "   Intercept  age_groups[T.25-34]  age_groups[T.35-44]  age_groups[T.45-55]  \\\n",
       "0          1                    1                    0                    0   \n",
       "1          1                    1                    0                    0   \n",
       "2          1                    1                    0                    0   \n",
       "3          1                    1                    0                    0   \n",
       "4          1                    1                    0                    0   \n",
       "\n",
       "   BIRTH  SMOKE  RACE  LWT  \n",
       "0      1      1     3  120  \n",
       "1      1      1     3  120  \n",
       "2      2      1     3  141  \n",
       "3      2      1     3  141  \n",
       "4      1      0     1  130  "
      ]
     },
     "execution_count": 210,
     "metadata": {},
     "output_type": "execute_result"
    }
   ],
   "source": [
    "Z.head(5)"
   ]
  },
  {
   "cell_type": "markdown",
   "metadata": {},
   "source": [
    "Finaly, we are ready to execute the logistic regresson model and see how accurate it is."
   ]
  },
  {
   "cell_type": "code",
   "execution_count": 211,
   "metadata": {
    "collapsed": false
   },
   "outputs": [
    {
     "data": {
      "text/plain": [
       "0.71320754716981127"
      ]
     },
     "execution_count": 211,
     "metadata": {},
     "output_type": "execute_result"
    }
   ],
   "source": [
    "# instantiate a logistic regression model, and fit with X and y\n",
    "model1 = LogisticRegression()\n",
    "model1 = model1.fit(Z, y)\n",
    "\n",
    "# check the accuracy on the training set\n",
    "model1.score(Z, y)"
   ]
  },
  {
   "cell_type": "markdown",
   "metadata": {},
   "source": [
    "71.3% accuracy seems good, but what's the null error rate? We also want to recheck the percentage of low birth weights."
   ]
  },
  {
   "cell_type": "code",
   "execution_count": 212,
   "metadata": {
    "collapsed": false
   },
   "outputs": [
    {
     "data": {
      "text/plain": [
       "0.30867924528301888"
      ]
     },
     "execution_count": 212,
     "metadata": {},
     "output_type": "execute_result"
    }
   ],
   "source": [
    "# what percentage had low birth weights?\n",
    "y.mean()"
   ]
  },
  {
   "cell_type": "markdown",
   "metadata": {},
   "source": [
    "Still, only 31% of the women had low birth rate children, which means that you could obtain 69% accuracy by always predicting \"no\". So we're doing better than the null error rate, but not by much. Let's examine the coefficients to see what we learn."
   ]
  },
  {
   "cell_type": "code",
   "execution_count": 213,
   "metadata": {
    "collapsed": false
   },
   "outputs": [
    {
     "data": {
      "text/html": [
       "<div>\n",
       "<table border=\"1\" class=\"dataframe\">\n",
       "  <thead>\n",
       "    <tr style=\"text-align: right;\">\n",
       "      <th></th>\n",
       "      <th>0</th>\n",
       "      <th>1</th>\n",
       "    </tr>\n",
       "  </thead>\n",
       "  <tbody>\n",
       "    <tr>\n",
       "      <th>0</th>\n",
       "      <td>Intercept</td>\n",
       "      <td>[0.0336484036311]</td>\n",
       "    </tr>\n",
       "    <tr>\n",
       "      <th>1</th>\n",
       "      <td>age_groups[T.25-34]</td>\n",
       "      <td>[0.00231314008486]</td>\n",
       "    </tr>\n",
       "    <tr>\n",
       "      <th>2</th>\n",
       "      <td>age_groups[T.35-44]</td>\n",
       "      <td>[0.185995251393]</td>\n",
       "    </tr>\n",
       "    <tr>\n",
       "      <th>3</th>\n",
       "      <td>age_groups[T.45-55]</td>\n",
       "      <td>[0.546655639398]</td>\n",
       "    </tr>\n",
       "    <tr>\n",
       "      <th>4</th>\n",
       "      <td>BIRTH</td>\n",
       "      <td>[-0.413795537922]</td>\n",
       "    </tr>\n",
       "    <tr>\n",
       "      <th>5</th>\n",
       "      <td>SMOKE</td>\n",
       "      <td>[0.0257483072665]</td>\n",
       "    </tr>\n",
       "    <tr>\n",
       "      <th>6</th>\n",
       "      <td>RACE</td>\n",
       "      <td>[-0.0115073134929]</td>\n",
       "    </tr>\n",
       "  </tbody>\n",
       "</table>\n",
       "</div>"
      ],
      "text/plain": [
       "                     0                   1\n",
       "0            Intercept   [0.0336484036311]\n",
       "1  age_groups[T.25-34]  [0.00231314008486]\n",
       "2  age_groups[T.35-44]    [0.185995251393]\n",
       "3  age_groups[T.45-55]    [0.546655639398]\n",
       "4                BIRTH   [-0.413795537922]\n",
       "5                SMOKE   [0.0257483072665]\n",
       "6                 RACE  [-0.0115073134929]"
      ]
     },
     "execution_count": 213,
     "metadata": {},
     "output_type": "execute_result"
    }
   ],
   "source": [
    "# examine the coefficients\n",
    "pd.DataFrame(zip(Z.columns, np.transpose(model.coef_)))"
   ]
  },
  {
   "cell_type": "markdown",
   "metadata": {
    "collapsed": true
   },
   "source": [
    "Increases in Birth Number and RACE correspond to a decrease in the likelihood of having an Low Birth Weight child. A decrease in Smoking Status corresponds to a decrease in the likelihood of having an Low Birth Weight child. For Age Group, the lowest likelihood of having Low Birth Weight child corresponds to the baseline age group (15-24), since all of the dummy coefficients are positive."
   ]
  },
  {
   "cell_type": "markdown",
   "metadata": {},
   "source": [
    "#Model Evaluation Using a Validation Set¶\n",
    "So far, we have trained and tested on the same set. Let's instead split the data into a training set and a testing set.\n"
   ]
  },
  {
   "cell_type": "code",
   "execution_count": 216,
   "metadata": {
    "collapsed": false
   },
   "outputs": [
    {
     "data": {
      "text/plain": [
       "LogisticRegression(C=1.0, class_weight=None, dual=False, fit_intercept=True,\n",
       "          intercept_scaling=1, max_iter=100, multi_class='ovr',\n",
       "          penalty='l2', random_state=None, solver='liblinear', tol=0.0001,\n",
       "          verbose=0)"
      ]
     },
     "execution_count": 216,
     "metadata": {},
     "output_type": "execute_result"
    }
   ],
   "source": [
    "# evaluate the model by splitting into train and test sets\n",
    "Z_train, Z_test, y_train, y_test = train_test_split(Z, y, test_size=0.3, random_state=0)\n",
    "model2 = LogisticRegression()\n",
    "model2.fit(Z_train, y_train)\n"
   ]
  },
  {
   "cell_type": "markdown",
   "metadata": {},
   "source": [
    "We now need to predict class labels for the test set. We will also generate the class probabilities, just to take a look."
   ]
  },
  {
   "cell_type": "code",
   "execution_count": 222,
   "metadata": {
    "collapsed": false
   },
   "outputs": [
    {
     "name": "stdout",
     "output_type": "stream",
     "text": [
      "[ 0.  0.  0.  0.  0.  0.  0.  0.  0.  0.  0.  0.  0.  0.  1.  1.  0.  0.\n",
      "  0.  0.  0.  0.  0.  0.  0.  0.  0.  0.  1.  0.  0.  0.  0.  0.  0.  0.\n",
      "  1.  1.  0.  0.  0.  0.  0.  0.  0.  1.  0.  1.  0.  0.  0.  0.  0.  0.\n",
      "  0.  0.  0.  0.  0.  1.  0.  0.  1.  0.  0.  0.  0.  0.  0.  0.  0.  0.\n",
      "  0.  0.  0.  0.  0.  0.  0.  0.  0.  0.  0.  0.  0.  0.  0.  0.  0.  0.\n",
      "  0.  0.  0.  0.  0.  0.  0.  0.  0.  0.  0.  1.  0.  0.  0.  1.  0.  0.\n",
      "  0.  0.  0.  0.  0.  0.  0.  1.  0.  0.  0.  0.  0.  0.  0.  0.  0.  0.\n",
      "  1.  0.  0.  0.  0.  0.  0.  0.  0.  0.  0.  0.  0.  0.  0.  0.  1.  0.\n",
      "  0.  0.  0.  1.  0.  0.  0.  0.  0.  0.  0.  0.  1.  0.  1.  0.  0.  0.\n",
      "  0.  0.  0.  0.  0.  1.  0.  0.  0.  0.  0.  0.  0.  0.  0.  0.  0.  0.\n",
      "  1.  0.  0.  0.  0.  0.  0.  1.  1.  0.  0.  0.  1.  0.  1.  0.  0.  0.\n",
      "  0.  0.  0.  0.  0.  1.  1.  0.  0.  0.  0.  0.  0.  0.  0.  0.  0.  1.\n",
      "  0.  1.  1.  0.  0.  0.  0.  0.  0.  1.  0.  0.  1.  0.  0.  0.  0.  0.\n",
      "  0.  0.  0.  0.  0.  0.  0.  0.  0.  0.  1.  0.  0.  0.  0.  0.  1.  1.\n",
      "  0.  0.  0.  0.  0.  0.  0.  0.  0.  0.  0.  1.  0.  0.  0.  0.  0.  0.\n",
      "  0.  1.  0.  0.  0.  0.  0.  0.  0.  1.  1.  0.  0.  0.  1.  1.  0.  0.\n",
      "  0.  0.  0.  0.  0.  1.  1.  0.  0.  0.  0.  0.  0.  0.  0.  0.  0.  0.\n",
      "  0.  0.  0.  1.  0.  0.  0.  0.  0.  0.  0.  0.  0.  1.  0.  0.  1.  1.\n",
      "  0.  0.  0.  0.  0.  0.  0.  0.  1.  0.  0.  0.  0.  0.  1.  1.  0.  0.\n",
      "  1.  0.  0.  0.  1.  0.  0.  0.  0.  0.  0.  0.  0.  0.  0.  0.  0.  1.\n",
      "  1.  0.  1.  1.  0.  0.  0.  0.  0.  1.  0.  0.  0.  0.  1.  0.  0.  0.\n",
      "  0.  0.  0.  0.  1.  0.  0.  1.  0.  0.  0.  0.  0.  0.  0.  0.  0.  0.\n",
      "  0.  0.]\n"
     ]
    }
   ],
   "source": [
    "# predict class labels for the test set\n",
    "predicted = model2.predict(Z_test)\n",
    "print predicted"
   ]
  },
  {
   "cell_type": "code",
   "execution_count": 223,
   "metadata": {
    "collapsed": false
   },
   "outputs": [
    {
     "name": "stdout",
     "output_type": "stream",
     "text": [
      "[[ 0.70610757  0.29389243]\n",
      " [ 0.82942743  0.17057257]\n",
      " [ 0.78996271  0.21003729]\n",
      " [ 0.71714883  0.28285117]\n",
      " [ 0.82860543  0.17139457]\n",
      " [ 0.66919892  0.33080108]\n",
      " [ 0.80411336  0.19588664]\n",
      " [ 0.82942743  0.17057257]\n",
      " [ 0.80489925  0.19510075]\n",
      " [ 0.76636931  0.23363069]\n",
      " [ 0.65336844  0.34663156]\n",
      " [ 0.73297997  0.26702003]\n",
      " [ 0.78927393  0.21072607]\n",
      " [ 0.68660728  0.31339272]\n",
      " [ 0.47777583  0.52222417]\n",
      " [ 0.48227767  0.51772233]\n",
      " [ 0.65248622  0.34751378]\n",
      " [ 0.76164841  0.23835159]\n",
      " [ 0.67351301  0.32648699]\n",
      " [ 0.86128674  0.13871326]\n",
      " [ 0.76963284  0.23036716]\n",
      " [ 0.72272821  0.27727179]\n",
      " [ 0.8737568   0.1262432 ]\n",
      " [ 0.88208189  0.11791811]\n",
      " [ 0.53068538  0.46931462]\n",
      " [ 0.70610757  0.29389243]\n",
      " [ 0.7541737   0.2458263 ]\n",
      " [ 0.5221264   0.4778736 ]\n",
      " [ 0.35235687  0.64764313]\n",
      " [ 0.77792749  0.22207251]\n",
      " [ 0.88745073  0.11254927]\n",
      " [ 0.55386162  0.44613838]\n",
      " [ 0.78469494  0.21530506]\n",
      " [ 0.76285017  0.23714983]\n",
      " [ 0.911691    0.088309  ]\n",
      " [ 0.87598835  0.12401165]\n",
      " [ 0.44136563  0.55863437]\n",
      " [ 0.4487613   0.5512387 ]\n",
      " [ 0.55853775  0.44146225]\n",
      " [ 0.75679693  0.24320307]\n",
      " [ 0.83398916  0.16601084]\n",
      " [ 0.57389654  0.42610346]\n",
      " [ 0.82265297  0.17734703]\n",
      " [ 0.76421135  0.23578865]\n",
      " [ 0.77331873  0.22668127]\n",
      " [ 0.39426088  0.60573912]\n",
      " [ 0.79700881  0.20299119]\n",
      " [ 0.40339388  0.59660612]\n",
      " [ 0.55277458  0.44722542]\n",
      " [ 0.80580829  0.19419171]\n",
      " [ 0.78552016  0.21447984]\n",
      " [ 0.63671968  0.36328032]\n",
      " [ 0.86160277  0.13839723]\n",
      " [ 0.69929885  0.30070115]\n",
      " [ 0.60826738  0.39173262]\n",
      " [ 0.52146572  0.47853428]\n",
      " [ 0.57745223  0.42254777]\n",
      " [ 0.57745223  0.42254777]\n",
      " [ 0.59172477  0.40827523]\n",
      " [ 0.49202107  0.50797893]\n",
      " [ 0.83547847  0.16452153]\n",
      " [ 0.57745223  0.42254777]\n",
      " [ 0.35608459  0.64391541]\n",
      " [ 0.5444307   0.4555693 ]\n",
      " [ 0.76818502  0.23181498]\n",
      " [ 0.76253524  0.23746476]\n",
      " [ 0.83082183  0.16917817]\n",
      " [ 0.84892836  0.15107164]\n",
      " [ 0.8481408   0.1518592 ]\n",
      " [ 0.88453859  0.11546141]\n",
      " [ 0.90110735  0.09889265]\n",
      " [ 0.69103461  0.30896539]\n",
      " [ 0.84374612  0.15625388]\n",
      " [ 0.89198729  0.10801271]\n",
      " [ 0.77792749  0.22207251]\n",
      " [ 0.76253524  0.23746476]\n",
      " [ 0.59459602  0.40540398]\n",
      " [ 0.88116797  0.11883203]\n",
      " [ 0.87493148  0.12506852]\n",
      " [ 0.74803039  0.25196961]\n",
      " [ 0.65743541  0.34256459]\n",
      " [ 0.78927393  0.21072607]\n",
      " [ 0.61944278  0.38055722]\n",
      " [ 0.82146108  0.17853892]\n",
      " [ 0.77235813  0.22764187]\n",
      " [ 0.82748778  0.17251222]\n",
      " [ 0.80826479  0.19173521]\n",
      " [ 0.88061445  0.11938555]\n",
      " [ 0.74614588  0.25385412]\n",
      " [ 0.77718864  0.22281136]\n",
      " [ 0.8886347   0.1113653 ]\n",
      " [ 0.83318472  0.16681528]\n",
      " [ 0.86353456  0.13646544]\n",
      " [ 0.73875666  0.26124334]\n",
      " [ 0.50358059  0.49641941]\n",
      " [ 0.89404018  0.10595982]\n",
      " [ 0.77792749  0.22207251]\n",
      " [ 0.51127045  0.48872955]\n",
      " [ 0.77235813  0.22764187]\n",
      " [ 0.56655818  0.43344182]\n",
      " [ 0.84531209  0.15468791]\n",
      " [ 0.34224622  0.65775378]\n",
      " [ 0.59459602  0.40540398]\n",
      " [ 0.80608043  0.19391957]\n",
      " [ 0.87858443  0.12141557]\n",
      " [ 0.33256988  0.66743012]\n",
      " [ 0.69622911  0.30377089]\n",
      " [ 0.91511432  0.08488568]\n",
      " [ 0.6971585   0.3028415 ]\n",
      " [ 0.86062829  0.13937171]\n",
      " [ 0.60498564  0.39501436]\n",
      " [ 0.84531209  0.15468791]\n",
      " [ 0.54738272  0.45261728]\n",
      " [ 0.85932831  0.14067169]\n",
      " [ 0.85713386  0.14286614]\n",
      " [ 0.40493705  0.59506295]\n",
      " [ 0.82460318  0.17539682]\n",
      " [ 0.53430905  0.46569095]\n",
      " [ 0.84708836  0.15291164]\n",
      " [ 0.84660065  0.15339935]\n",
      " [ 0.51696335  0.48303665]\n",
      " [ 0.74983131  0.25016869]\n",
      " [ 0.72707482  0.27292518]\n",
      " [ 0.89533594  0.10466406]\n",
      " [ 0.75669529  0.24330471]\n",
      " [ 0.75015218  0.24984782]\n",
      " [ 0.47302997  0.52697003]\n",
      " [ 0.75551357  0.24448643]\n",
      " [ 0.59851812  0.40148188]\n",
      " [ 0.69831633  0.30168367]\n",
      " [ 0.87194826  0.12805174]\n",
      " [ 0.55141699  0.44858301]\n",
      " [ 0.66977844  0.33022156]\n",
      " [ 0.68547063  0.31452937]\n",
      " [ 0.5444307   0.4555693 ]\n",
      " [ 0.80996665  0.19003335]\n",
      " [ 0.85056469  0.14943531]\n",
      " [ 0.79700881  0.20299119]\n",
      " [ 0.8417363   0.1582637 ]\n",
      " [ 0.67472135  0.32527865]\n",
      " [ 0.81417791  0.18582209]\n",
      " [ 0.64361738  0.35638262]\n",
      " [ 0.48184322  0.51815678]\n",
      " [ 0.76344404  0.23655596]\n",
      " [ 0.78117983  0.21882017]\n",
      " [ 0.68860046  0.31139954]\n",
      " [ 0.81085764  0.18914236]\n",
      " [ 0.43269554  0.56730446]\n",
      " [ 0.90089782  0.09910218]\n",
      " [ 0.6283875   0.3716125 ]\n",
      " [ 0.53408318  0.46591682]\n",
      " [ 0.60695847  0.39304153]\n",
      " [ 0.79327119  0.20672881]\n",
      " [ 0.70190654  0.29809346]\n",
      " [ 0.73189847  0.26810153]\n",
      " [ 0.79168474  0.20831526]\n",
      " [ 0.43735152  0.56264848]\n",
      " [ 0.85734681  0.14265319]\n",
      " [ 0.40101642  0.59898358]\n",
      " [ 0.57190282  0.42809718]\n",
      " [ 0.60888018  0.39111982]\n",
      " [ 0.81045123  0.18954877]\n",
      " [ 0.81863262  0.18136738]\n",
      " [ 0.75600231  0.24399769]\n",
      " [ 0.55343163  0.44656837]\n",
      " [ 0.66351298  0.33648702]\n",
      " [ 0.86301667  0.13698333]\n",
      " [ 0.48140881  0.51859119]\n",
      " [ 0.73875666  0.26124334]\n",
      " [ 0.61407628  0.38592372]\n",
      " [ 0.83435541  0.16564459]\n",
      " [ 0.51899774  0.48100226]\n",
      " [ 0.84281874  0.15718126]\n",
      " [ 0.84896432  0.15103568]\n",
      " [ 0.51739784  0.48260216]\n",
      " [ 0.81850053  0.18149947]\n",
      " [ 0.85181717  0.14818283]\n",
      " [ 0.85439611  0.14560389]\n",
      " [ 0.72167523  0.27832477]\n",
      " [ 0.87858443  0.12141557]\n",
      " [ 0.3416738   0.6583262 ]\n",
      " [ 0.52553077  0.47446923]\n",
      " [ 0.69034497  0.30965503]\n",
      " [ 0.71318149  0.28681851]\n",
      " [ 0.69277157  0.30722843]\n",
      " [ 0.72109243  0.27890757]\n",
      " [ 0.8481408   0.1518592 ]\n",
      " [ 0.4143005   0.5856995 ]\n",
      " [ 0.42777903  0.57222097]\n",
      " [ 0.73981682  0.26018318]\n",
      " [ 0.82278537  0.17721463]\n",
      " [ 0.85588415  0.14411585]\n",
      " [ 0.35147553  0.64852447]\n",
      " [ 0.90293533  0.09706467]\n",
      " [ 0.4899847   0.5100153 ]\n",
      " [ 0.73474508  0.26525492]\n",
      " [ 0.87031417  0.12968583]\n",
      " [ 0.59297838  0.40702162]\n",
      " [ 0.75053603  0.24946397]\n",
      " [ 0.75920787  0.24079213]\n",
      " [ 0.89533594  0.10466406]\n",
      " [ 0.74874193  0.25125807]\n",
      " [ 0.53727091  0.46272909]\n",
      " [ 0.48751392  0.51248608]\n",
      " [ 0.4487613   0.5512387 ]\n",
      " [ 0.70555782  0.29444218]\n",
      " [ 0.89932325  0.10067675]\n",
      " [ 0.86301667  0.13698333]\n",
      " [ 0.70893192  0.29106808]\n",
      " [ 0.85044928  0.14955072]\n",
      " [ 0.86160277  0.13839723]\n",
      " [ 0.7159652   0.2840348 ]\n",
      " [ 0.76646273  0.23353727]\n",
      " [ 0.74471494  0.25528506]\n",
      " [ 0.84708836  0.15291164]\n",
      " [ 0.48751392  0.51248608]\n",
      " [ 0.806904    0.193096  ]\n",
      " [ 0.4622546   0.5377454 ]\n",
      " [ 0.45994889  0.54005111]\n",
      " [ 0.86225735  0.13774265]\n",
      " [ 0.55896675  0.44103325]\n",
      " [ 0.6756836   0.3243164 ]\n",
      " [ 0.50220553  0.49779447]\n",
      " [ 0.65486226  0.34513774]\n",
      " [ 0.85512666  0.14487334]\n",
      " [ 0.4976965   0.5023035 ]\n",
      " [ 0.7575022   0.2424978 ]\n",
      " [ 0.80480358  0.19519642]\n",
      " [ 0.4940577   0.5059423 ]\n",
      " [ 0.812942    0.187058  ]\n",
      " [ 0.7080354   0.2919646 ]\n",
      " [ 0.71418684  0.28581316]\n",
      " [ 0.85734681  0.14265319]\n",
      " [ 0.55853775  0.44146225]\n",
      " [ 0.80093486  0.19906514]\n",
      " [ 0.72568013  0.27431987]\n",
      " [ 0.54983139  0.45016861]\n",
      " [ 0.51398908  0.48601092]\n",
      " [ 0.67119421  0.32880579]\n",
      " [ 0.85439611  0.14560389]\n",
      " [ 0.8737568   0.1262432 ]\n",
      " [ 0.79705442  0.20294558]\n",
      " [ 0.77331873  0.22668127]\n",
      " [ 0.53836157  0.46163843]\n",
      " [ 0.44538742  0.55461258]\n",
      " [ 0.69622911  0.30377089]\n",
      " [ 0.70965541  0.29034459]\n",
      " [ 0.87304826  0.12695174]\n",
      " [ 0.87771256  0.12228744]\n",
      " [ 0.68484513  0.31515487]\n",
      " [ 0.47371137  0.52628863]\n",
      " [ 0.48751392  0.51248608]\n",
      " [ 0.55853775  0.44146225]\n",
      " [ 0.85534209  0.14465791]\n",
      " [ 0.72219732  0.27780268]\n",
      " [ 0.85964807  0.14035193]\n",
      " [ 0.86301667  0.13698333]\n",
      " [ 0.53430905  0.46569095]\n",
      " [ 0.67516232  0.32483768]\n",
      " [ 0.79168474  0.20831526]\n",
      " [ 0.8135587   0.1864413 ]\n",
      " [ 0.6283875   0.3716125 ]\n",
      " [ 0.87858443  0.12141557]\n",
      " [ 0.44242212  0.55757788]\n",
      " [ 0.88680908  0.11319092]\n",
      " [ 0.80435217  0.19564783]\n",
      " [ 0.57852248  0.42147752]\n",
      " [ 0.84231994  0.15768006]\n",
      " [ 0.51442373  0.48557627]\n",
      " [ 0.87194826  0.12805174]\n",
      " [ 0.85270073  0.14729927]\n",
      " [ 0.36588333  0.63411667]\n",
      " [ 0.7545928   0.2454072 ]\n",
      " [ 0.87031417  0.12968583]\n",
      " [ 0.51302371  0.48697629]\n",
      " [ 0.80065729  0.19934271]\n",
      " [ 0.72759991  0.27240009]\n",
      " [ 0.59851812  0.40148188]\n",
      " [ 0.7313822   0.2686178 ]\n",
      " [ 0.4802435   0.5197565 ]\n",
      " [ 0.48481703  0.51518297]\n",
      " [ 0.5934772   0.4065228 ]\n",
      " [ 0.58249089  0.41750911]\n",
      " [ 0.74874193  0.25125807]\n",
      " [ 0.42578569  0.57421431]\n",
      " [ 0.33521843  0.66478157]\n",
      " [ 0.66011876  0.33988124]\n",
      " [ 0.74482526  0.25517474]\n",
      " [ 0.50045125  0.49954875]\n",
      " [ 0.51805894  0.48194106]\n",
      " [ 0.53458329  0.46541671]\n",
      " [ 0.78606836  0.21393164]\n",
      " [ 0.67119421  0.32880579]\n",
      " [ 0.40011351  0.59988649]\n",
      " [ 0.47028406  0.52971594]\n",
      " [ 0.54284087  0.45715913]\n",
      " [ 0.60826738  0.39173262]\n",
      " [ 0.66401778  0.33598222]\n",
      " [ 0.55141699  0.44858301]\n",
      " [ 0.65926812  0.34073188]\n",
      " [ 0.80952436  0.19047564]\n",
      " [ 0.92365203  0.07634797]\n",
      " [ 0.78117983  0.21882017]\n",
      " [ 0.62471697  0.37528303]\n",
      " [ 0.60695847  0.39304153]\n",
      " [ 0.79168474  0.20831526]\n",
      " [ 0.87858443  0.12141557]\n",
      " [ 0.72598197  0.27401803]\n",
      " [ 0.50627928  0.49372072]\n",
      " [ 0.43577528  0.56422472]\n",
      " [ 0.89108172  0.10891828]\n",
      " [ 0.86062829  0.13937171]\n",
      " [ 0.69103461  0.30896539]\n",
      " [ 0.75135129  0.24864871]\n",
      " [ 0.89108172  0.10891828]\n",
      " [ 0.91646486  0.08353514]\n",
      " [ 0.6883579   0.3116421 ]\n",
      " [ 0.58249089  0.41750911]\n",
      " [ 0.74432518  0.25567482]\n",
      " [ 0.46154104  0.53845896]\n",
      " [ 0.70610757  0.29389243]\n",
      " [ 0.74449441  0.25550559]\n",
      " [ 0.43670008  0.56329992]\n",
      " [ 0.47071755  0.52928245]\n",
      " [ 0.80093486  0.19906514]\n",
      " [ 0.68929224  0.31070776]\n",
      " [ 0.84281874  0.15718126]\n",
      " [ 0.77117176  0.22882824]\n",
      " [ 0.5976167   0.4023833 ]\n",
      " [ 0.86608284  0.13391716]\n",
      " [ 0.75600231  0.24399769]\n",
      " [ 0.83033235  0.16966765]\n",
      " [ 0.48794866  0.51205134]\n",
      " [ 0.66919892  0.33080108]\n",
      " [ 0.53068538  0.46931462]\n",
      " [ 0.62088869  0.37911131]\n",
      " [ 0.90234329  0.09765671]\n",
      " [ 0.84870507  0.15129493]\n",
      " [ 0.42977473  0.57022527]\n",
      " [ 0.42977473  0.57022527]\n",
      " [ 0.51986643  0.48013357]\n",
      " [ 0.80875268  0.19124732]\n",
      " [ 0.4726176   0.5273824 ]\n",
      " [ 0.78203277  0.21796723]\n",
      " [ 0.73450791  0.26549209]\n",
      " [ 0.75238282  0.24761718]\n",
      " [ 0.36359222  0.63640778]\n",
      " [ 0.7904851   0.2095149 ]\n",
      " [ 0.85719795  0.14280205]\n",
      " [ 0.85734681  0.14265319]\n",
      " [ 0.79364187  0.20635813]\n",
      " [ 0.86702507  0.13297493]\n",
      " [ 0.82539994  0.17460006]\n",
      " [ 0.72995375  0.27004625]\n",
      " [ 0.86062829  0.13937171]\n",
      " [ 0.80793512  0.19206488]\n",
      " [ 0.88477829  0.11522171]\n",
      " [ 0.72025778  0.27974222]\n",
      " [ 0.86010116  0.13989884]\n",
      " [ 0.42977473  0.57022527]\n",
      " [ 0.44644584  0.55355416]\n",
      " [ 0.79087864  0.20912136]\n",
      " [ 0.44041305  0.55958695]\n",
      " [ 0.42180628  0.57819372]\n",
      " [ 0.81850053  0.18149947]\n",
      " [ 0.71300165  0.28699835]\n",
      " [ 0.53836157  0.46163843]\n",
      " [ 0.85932831  0.14067169]\n",
      " [ 0.57496917  0.42503083]\n",
      " [ 0.48387786  0.51612214]\n",
      " [ 0.60695847  0.39304153]\n",
      " [ 0.87417101  0.12582899]\n",
      " [ 0.73786029  0.26213971]\n",
      " [ 0.65644655  0.34355345]\n",
      " [ 0.42670533  0.57329467]\n",
      " [ 0.58142343  0.41857657]\n",
      " [ 0.87771256  0.12228744]\n",
      " [ 0.79435954  0.20564046]\n",
      " [ 0.71354316  0.28645684]\n",
      " [ 0.5288558   0.4711442 ]\n",
      " [ 0.72109243  0.27890757]\n",
      " [ 0.70610757  0.29389243]\n",
      " [ 0.38843844  0.61156156]\n",
      " [ 0.86418145  0.13581855]\n",
      " [ 0.87771256  0.12228744]\n",
      " [ 0.42272365  0.57727635]\n",
      " [ 0.91597297  0.08402703]\n",
      " [ 0.79293967  0.20706033]\n",
      " [ 0.72184809  0.27815191]\n",
      " [ 0.78606836  0.21393164]\n",
      " [ 0.72272821  0.27727179]\n",
      " [ 0.69763583  0.30236417]\n",
      " [ 0.70983649  0.29016351]\n",
      " [ 0.53676859  0.46323141]\n",
      " [ 0.87417101  0.12582899]\n",
      " [ 0.59655861  0.40344139]\n",
      " [ 0.78276183  0.21723817]\n",
      " [ 0.71000202  0.28999798]]\n"
     ]
    }
   ],
   "source": [
    "# generate class probabilities\n",
    "probs = model2.predict_proba(Z_test)\n",
    "print probs"
   ]
  },
  {
   "cell_type": "markdown",
   "metadata": {},
   "source": [
    "As you can see, the classifier is predicting a 1 (having a Low Birth Weight child) any time the probability in the second column is greater than 0.5.\n",
    "Now let's generate some evaluation metrics."
   ]
  },
  {
   "cell_type": "code",
   "execution_count": 224,
   "metadata": {
    "collapsed": false
   },
   "outputs": [
    {
     "name": "stdout",
     "output_type": "stream",
     "text": [
      "0.678391959799\n",
      "0.678443267259\n"
     ]
    }
   ],
   "source": [
    "# generate evaluation metrics\n",
    "print metrics.accuracy_score(y_test, predicted)\n",
    "print metrics.roc_auc_score(y_test, probs[:, 1])"
   ]
  },
  {
   "cell_type": "markdown",
   "metadata": {},
   "source": [
    "The accuracy is 67.8%, which is the close to what we experienced when training and predicting on the same data.\n",
    "We can also see the confusion matrix and a classification report with other metrics."
   ]
  },
  {
   "cell_type": "code",
   "execution_count": 1,
   "metadata": {
    "collapsed": false
   },
   "outputs": [
    {
     "ename": "NameError",
     "evalue": "name 'metrics' is not defined",
     "output_type": "error",
     "traceback": [
      "\u001b[1;31m---------------------------------------------------------------------------\u001b[0m",
      "\u001b[1;31mNameError\u001b[0m                                 Traceback (most recent call last)",
      "\u001b[1;32m<ipython-input-1-54df3cf22273>\u001b[0m in \u001b[0;36m<module>\u001b[1;34m()\u001b[0m\n\u001b[1;32m----> 1\u001b[1;33m \u001b[1;32mprint\u001b[0m \u001b[0mmetrics\u001b[0m\u001b[1;33m.\u001b[0m\u001b[0mconfusion_matrix\u001b[0m\u001b[1;33m(\u001b[0m\u001b[0mtestArr\u001b[0m\u001b[1;33m,\u001b[0m \u001b[0mpredicted\u001b[0m\u001b[1;33m)\u001b[0m\u001b[1;33m\u001b[0m\u001b[0m\n\u001b[0m\u001b[0;32m      2\u001b[0m \u001b[1;32mprint\u001b[0m \u001b[0mmetrics\u001b[0m\u001b[1;33m.\u001b[0m\u001b[0mclassification_report\u001b[0m\u001b[1;33m(\u001b[0m\u001b[0mtestArr\u001b[0m\u001b[1;33m,\u001b[0m \u001b[0mpredicted\u001b[0m\u001b[1;33m)\u001b[0m\u001b[1;33m\u001b[0m\u001b[0m\n",
      "\u001b[1;31mNameError\u001b[0m: name 'metrics' is not defined"
     ]
    }
   ],
   "source": [
    "print metrics.confusion_matrix(y_test, predicted)\n",
    "print metrics.classification_report(y_test, predicted)"
   ]
  },
  {
   "cell_type": "markdown",
   "metadata": {},
   "source": [
    "#Model Evaluation Using Cross-Validation¶\n",
    "Now let's try 10-fold cross-validation, to see if the accuracy holds up more rigorously."
   ]
  },
  {
   "cell_type": "code",
   "execution_count": 226,
   "metadata": {
    "collapsed": false
   },
   "outputs": [
    {
     "name": "stdout",
     "output_type": "stream",
     "text": [
      "[ 0.53383459  0.7518797   0.69924812  0.68421053  0.64661654  0.80451128\n",
      "  0.73484848  0.66666667  0.61363636  0.71755725]\n",
      "0.685300951894\n"
     ]
    }
   ],
   "source": [
    "# evaluate the model using 10-fold cross-validation\n",
    "scores = cross_val_score(LogisticRegression(), Z, y, scoring='accuracy', cv=10)\n",
    "print scores\n",
    "print scores.mean()"
   ]
  },
  {
   "cell_type": "markdown",
   "metadata": {},
   "source": [
    "Looks good. It's still performing at 69% accuracy."
   ]
  },
  {
   "cell_type": "code",
   "execution_count": null,
   "metadata": {
    "collapsed": true
   },
   "outputs": [],
   "source": []
  },
  {
   "cell_type": "markdown",
   "metadata": {},
   "source": [
    "#Predicting the Probability of Low Birth Weight Child¶\n",
    "Just for fun, let's predict the probability of a low birth weight child for a random woman not present in the dataset. She's a 35-year-old Other race, has had 2 births,(has 2 children), is a smoker,and her weight is 132."
   ]
  },
  {
   "cell_type": "code",
   "execution_count": 228,
   "metadata": {
    "collapsed": false
   },
   "outputs": [
    {
     "data": {
      "text/plain": [
       "array([[ 0.60709037,  0.39290963]])"
      ]
     },
     "execution_count": 228,
     "metadata": {},
     "output_type": "execute_result"
    }
   ],
   "source": [
    "model.predict_proba(np.array([0, 0, 1, 1, 3, 2, 1]))\n"
   ]
  },
  {
   "cell_type": "markdown",
   "metadata": {},
   "source": [
    "The predicted probability of low birth weight child is 39.3%"
   ]
  },
  {
   "cell_type": "markdown",
   "metadata": {},
   "source": [
    "#Next Steps¶\n",
    "There are many different steps that could be tried in order to improve the model:\n",
    "\n",
    "• including interaction terms\n",
    "\n",
    "• removing features\n",
    "\n",
    "• regularization techniques\n",
    "\n",
    "• using a non-linear model"
   ]
  },
  {
   "cell_type": "code",
   "execution_count": null,
   "metadata": {
    "collapsed": true
   },
   "outputs": [],
   "source": []
  }
 ],
 "metadata": {
  "kernelspec": {
   "display_name": "Python 2",
   "language": "python",
   "name": "python2"
  },
  "language_info": {
   "codemirror_mode": {
    "name": "ipython",
    "version": 2
   },
   "file_extension": ".py",
   "mimetype": "text/x-python",
   "name": "python",
   "nbconvert_exporter": "python",
   "pygments_lexer": "ipython2",
   "version": "2.7.10"
  }
 },
 "nbformat": 4,
 "nbformat_minor": 0
}
